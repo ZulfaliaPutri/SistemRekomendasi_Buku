{
  "nbformat": 4,
  "nbformat_minor": 0,
  "metadata": {
    "colab": {
      "name": "RekomendasiProyek.ipynb",
      "provenance": [],
      "collapsed_sections": []
    },
    "kernelspec": {
      "name": "python3",
      "display_name": "Python 3"
    },
    "language_info": {
      "name": "python"
    }
  },
  "cells": [
    {
      "cell_type": "markdown",
      "metadata": {
        "id": "tw2LANJ023_T"
      },
      "source": [
        "# **Proyek Kedua**\n",
        "\n",
        "Sistem Rekomendasi Buku\n",
        "\n",
        "Nama: Zulfazazalia Putri Candra Wati\n",
        "\n",
        "Email: lia.putricandrawati@gmail.com\n",
        "\n",
        "Domisili: Bali"
      ]
    },
    {
      "cell_type": "markdown",
      "metadata": {
        "id": "nlvAn3cFusPn"
      },
      "source": [
        "\n",
        "Install opendataset yang nantinya digunakan untuk mengambil dataset"
      ]
    },
    {
      "cell_type": "code",
      "metadata": {
        "colab": {
          "base_uri": "https://localhost:8080/"
        },
        "id": "Z4oAvjDnrjlc",
        "outputId": "c7a54a99-f501-4747-c9cd-6378dafc6e5e"
      },
      "source": [
        "!pip install opendatasets --upgrade"
      ],
      "execution_count": 1,
      "outputs": [
        {
          "output_type": "stream",
          "name": "stdout",
          "text": [
            "Collecting opendatasets\n",
            "  Downloading opendatasets-0.1.20-py3-none-any.whl (14 kB)\n",
            "Requirement already satisfied: click in /usr/local/lib/python3.7/dist-packages (from opendatasets) (7.1.2)\n",
            "Requirement already satisfied: tqdm in /usr/local/lib/python3.7/dist-packages (from opendatasets) (4.62.3)\n",
            "Requirement already satisfied: kaggle in /usr/local/lib/python3.7/dist-packages (from opendatasets) (1.5.12)\n",
            "Requirement already satisfied: requests in /usr/local/lib/python3.7/dist-packages (from kaggle->opendatasets) (2.23.0)\n",
            "Requirement already satisfied: python-slugify in /usr/local/lib/python3.7/dist-packages (from kaggle->opendatasets) (5.0.2)\n",
            "Requirement already satisfied: python-dateutil in /usr/local/lib/python3.7/dist-packages (from kaggle->opendatasets) (2.8.2)\n",
            "Requirement already satisfied: certifi in /usr/local/lib/python3.7/dist-packages (from kaggle->opendatasets) (2021.5.30)\n",
            "Requirement already satisfied: six>=1.10 in /usr/local/lib/python3.7/dist-packages (from kaggle->opendatasets) (1.15.0)\n",
            "Requirement already satisfied: urllib3 in /usr/local/lib/python3.7/dist-packages (from kaggle->opendatasets) (1.24.3)\n",
            "Requirement already satisfied: text-unidecode>=1.3 in /usr/local/lib/python3.7/dist-packages (from python-slugify->kaggle->opendatasets) (1.3)\n",
            "Requirement already satisfied: idna<3,>=2.5 in /usr/local/lib/python3.7/dist-packages (from requests->kaggle->opendatasets) (2.10)\n",
            "Requirement already satisfied: chardet<4,>=3.0.2 in /usr/local/lib/python3.7/dist-packages (from requests->kaggle->opendatasets) (3.0.4)\n",
            "Installing collected packages: opendatasets\n",
            "Successfully installed opendatasets-0.1.20\n"
          ]
        }
      ]
    },
    {
      "cell_type": "markdown",
      "metadata": {
        "id": "RIM_-CbYwTR8"
      },
      "source": [
        "\n",
        "Impor opendataset yang digunakan untuk mengambil dataset yang ada pada kaggel dimana nantinya memasukkan username dan key"
      ]
    },
    {
      "cell_type": "code",
      "metadata": {
        "colab": {
          "base_uri": "https://localhost:8080/"
        },
        "id": "7KZCQO8qrmnw",
        "outputId": "006b573a-0118-4d08-d6bd-4055adf35815"
      },
      "source": [
        "# Kunci Kaggle\n",
        "# \"username\":\"zulfaliaputri\"\n",
        "# \"key\":\"202a7841f910c6335d48aae386e35185\"\n",
        "\n",
        "import opendatasets as od\n",
        "\n",
        "dataset_url = 'https://www.kaggle.com/arashnic/book-recommendation-dataset'\n",
        "od.download('https://www.kaggle.com/arashnic/book-recommendation-dataset')"
      ],
      "execution_count": 2,
      "outputs": [
        {
          "output_type": "stream",
          "name": "stdout",
          "text": [
            "Please provide your Kaggle credentials to download this dataset. Learn more: http://bit.ly/kaggle-creds\n",
            "Your Kaggle username: zulfaliaputri\n",
            "Your Kaggle Key: ··········\n",
            "Downloading book-recommendation-dataset.zip to ./book-recommendation-dataset\n"
          ]
        },
        {
          "output_type": "stream",
          "name": "stderr",
          "text": [
            "100%|██████████| 23.8M/23.8M [00:00<00:00, 99.7MB/s]\n"
          ]
        },
        {
          "output_type": "stream",
          "name": "stdout",
          "text": [
            "\n"
          ]
        }
      ]
    },
    {
      "cell_type": "markdown",
      "metadata": {
        "id": "bKe8id3YxPqR"
      },
      "source": [
        "Library yang digunakan dalam proyek ini sebagai berikut:"
      ]
    },
    {
      "cell_type": "code",
      "metadata": {
        "id": "5ILCRbQKrplO"
      },
      "source": [
        "import numpy as np\n",
        "import matplotlib.pyplot as plt\n",
        "import pandas as pd\n",
        "%matplotlib inline\n",
        "import seaborn as sns\n",
        "from sklearn.model_selection import train_test_split\n",
        "from zipfile import ZipFile\n",
        "from pathlib import Path\n",
        "import matplotlib.pyplot as plt"
      ],
      "execution_count": 3,
      "outputs": []
    },
    {
      "cell_type": "markdown",
      "metadata": {
        "id": "c6yWf4Rv5fus"
      },
      "source": [
        "# **Data Understanding**\n",
        "\n",
        "Deskripsi dari variable pada dataset:\n",
        "\n",
        "> Books.csv\n",
        "*   ISBN: merupakan id pada buku dengan tipe data object\n",
        "* Book-Title: merupakan judul dari buku dengan tipe data object\n",
        "*   Book-Author: merupakan pengarang dari buku dengan tipe data object\n",
        "* Year-Of-Publication: merupakan tahun di publikasinya buku dengan tipe data object\n",
        "* Publisher: merupakan penerbit dari buku dengan tipe data object\n",
        "* Image-URL-S: merupakan sampul gambar dari buku yang berukuran kecil dengan tipe data object\n",
        "* Image-URL-M: merupakan sampul gambar dari buku yang berukuran sedang dengan tipe data object\n",
        "* Image-URL-L: merupakan sampul gambar dari buku yang berukuran besar dengan tipe data object\n",
        "\n",
        "\n",
        "\n",
        "> Rating.csv\n",
        "* User-ID: merupakan ID dari user dengan tipe data int64\n",
        "* ISBN: merupakan id pada buku dengan tipe data object\n",
        "* Book-Rating: merupakan rating yang diberikan untuk buku dengan tipe data int64\n",
        "\n"
      ]
    },
    {
      "cell_type": "markdown",
      "metadata": {
        "id": "W9DFaYjcMJni"
      },
      "source": [
        "Load dataset "
      ]
    },
    {
      "cell_type": "code",
      "metadata": {
        "colab": {
          "base_uri": "https://localhost:8080/"
        },
        "id": "KGJBTjBlrsBb",
        "outputId": "5c2ea95f-e121-47da-e10f-a5b22a715909"
      },
      "source": [
        "import pandas as pd\n",
        "books = pd.read_csv('/content/book-recommendation-dataset/Books.csv')\n",
        "rating = pd.read_csv('/content/book-recommendation-dataset/Ratings.csv')"
      ],
      "execution_count": 4,
      "outputs": [
        {
          "output_type": "stream",
          "name": "stderr",
          "text": [
            "/usr/local/lib/python3.7/dist-packages/IPython/core/interactiveshell.py:2718: DtypeWarning: Columns (3) have mixed types.Specify dtype option on import or set low_memory=False.\n",
            "  interactivity=interactivity, compiler=compiler, result=result)\n"
          ]
        }
      ]
    },
    {
      "cell_type": "markdown",
      "metadata": {
        "id": "_GboKgzmEC7X"
      },
      "source": [
        "## Univariate Exploratory Data Analysis"
      ]
    },
    {
      "cell_type": "markdown",
      "metadata": {
        "id": "nXsDlpn_J9-Q"
      },
      "source": [
        "Menampilkan data yang ada pada dataset books setelah dilakukan load dataset"
      ]
    },
    {
      "cell_type": "code",
      "metadata": {
        "colab": {
          "base_uri": "https://localhost:8080/",
          "height": 877
        },
        "id": "2dax1PmaD6ie",
        "outputId": "df6257ef-4748-4aaf-f6ea-432e63103090"
      },
      "source": [
        "books"
      ],
      "execution_count": 5,
      "outputs": [
        {
          "output_type": "execute_result",
          "data": {
            "text/html": [
              "<div>\n",
              "<style scoped>\n",
              "    .dataframe tbody tr th:only-of-type {\n",
              "        vertical-align: middle;\n",
              "    }\n",
              "\n",
              "    .dataframe tbody tr th {\n",
              "        vertical-align: top;\n",
              "    }\n",
              "\n",
              "    .dataframe thead th {\n",
              "        text-align: right;\n",
              "    }\n",
              "</style>\n",
              "<table border=\"1\" class=\"dataframe\">\n",
              "  <thead>\n",
              "    <tr style=\"text-align: right;\">\n",
              "      <th></th>\n",
              "      <th>ISBN</th>\n",
              "      <th>Book-Title</th>\n",
              "      <th>Book-Author</th>\n",
              "      <th>Year-Of-Publication</th>\n",
              "      <th>Publisher</th>\n",
              "      <th>Image-URL-S</th>\n",
              "      <th>Image-URL-M</th>\n",
              "      <th>Image-URL-L</th>\n",
              "    </tr>\n",
              "  </thead>\n",
              "  <tbody>\n",
              "    <tr>\n",
              "      <th>0</th>\n",
              "      <td>0195153448</td>\n",
              "      <td>Classical Mythology</td>\n",
              "      <td>Mark P. O. Morford</td>\n",
              "      <td>2002</td>\n",
              "      <td>Oxford University Press</td>\n",
              "      <td>http://images.amazon.com/images/P/0195153448.0...</td>\n",
              "      <td>http://images.amazon.com/images/P/0195153448.0...</td>\n",
              "      <td>http://images.amazon.com/images/P/0195153448.0...</td>\n",
              "    </tr>\n",
              "    <tr>\n",
              "      <th>1</th>\n",
              "      <td>0002005018</td>\n",
              "      <td>Clara Callan</td>\n",
              "      <td>Richard Bruce Wright</td>\n",
              "      <td>2001</td>\n",
              "      <td>HarperFlamingo Canada</td>\n",
              "      <td>http://images.amazon.com/images/P/0002005018.0...</td>\n",
              "      <td>http://images.amazon.com/images/P/0002005018.0...</td>\n",
              "      <td>http://images.amazon.com/images/P/0002005018.0...</td>\n",
              "    </tr>\n",
              "    <tr>\n",
              "      <th>2</th>\n",
              "      <td>0060973129</td>\n",
              "      <td>Decision in Normandy</td>\n",
              "      <td>Carlo D'Este</td>\n",
              "      <td>1991</td>\n",
              "      <td>HarperPerennial</td>\n",
              "      <td>http://images.amazon.com/images/P/0060973129.0...</td>\n",
              "      <td>http://images.amazon.com/images/P/0060973129.0...</td>\n",
              "      <td>http://images.amazon.com/images/P/0060973129.0...</td>\n",
              "    </tr>\n",
              "    <tr>\n",
              "      <th>3</th>\n",
              "      <td>0374157065</td>\n",
              "      <td>Flu: The Story of the Great Influenza Pandemic...</td>\n",
              "      <td>Gina Bari Kolata</td>\n",
              "      <td>1999</td>\n",
              "      <td>Farrar Straus Giroux</td>\n",
              "      <td>http://images.amazon.com/images/P/0374157065.0...</td>\n",
              "      <td>http://images.amazon.com/images/P/0374157065.0...</td>\n",
              "      <td>http://images.amazon.com/images/P/0374157065.0...</td>\n",
              "    </tr>\n",
              "    <tr>\n",
              "      <th>4</th>\n",
              "      <td>0393045218</td>\n",
              "      <td>The Mummies of Urumchi</td>\n",
              "      <td>E. J. W. Barber</td>\n",
              "      <td>1999</td>\n",
              "      <td>W. W. Norton &amp;amp; Company</td>\n",
              "      <td>http://images.amazon.com/images/P/0393045218.0...</td>\n",
              "      <td>http://images.amazon.com/images/P/0393045218.0...</td>\n",
              "      <td>http://images.amazon.com/images/P/0393045218.0...</td>\n",
              "    </tr>\n",
              "    <tr>\n",
              "      <th>...</th>\n",
              "      <td>...</td>\n",
              "      <td>...</td>\n",
              "      <td>...</td>\n",
              "      <td>...</td>\n",
              "      <td>...</td>\n",
              "      <td>...</td>\n",
              "      <td>...</td>\n",
              "      <td>...</td>\n",
              "    </tr>\n",
              "    <tr>\n",
              "      <th>271355</th>\n",
              "      <td>0440400988</td>\n",
              "      <td>There's a Bat in Bunk Five</td>\n",
              "      <td>Paula Danziger</td>\n",
              "      <td>1988</td>\n",
              "      <td>Random House Childrens Pub (Mm)</td>\n",
              "      <td>http://images.amazon.com/images/P/0440400988.0...</td>\n",
              "      <td>http://images.amazon.com/images/P/0440400988.0...</td>\n",
              "      <td>http://images.amazon.com/images/P/0440400988.0...</td>\n",
              "    </tr>\n",
              "    <tr>\n",
              "      <th>271356</th>\n",
              "      <td>0525447644</td>\n",
              "      <td>From One to One Hundred</td>\n",
              "      <td>Teri Sloat</td>\n",
              "      <td>1991</td>\n",
              "      <td>Dutton Books</td>\n",
              "      <td>http://images.amazon.com/images/P/0525447644.0...</td>\n",
              "      <td>http://images.amazon.com/images/P/0525447644.0...</td>\n",
              "      <td>http://images.amazon.com/images/P/0525447644.0...</td>\n",
              "    </tr>\n",
              "    <tr>\n",
              "      <th>271357</th>\n",
              "      <td>006008667X</td>\n",
              "      <td>Lily Dale : The True Story of the Town that Ta...</td>\n",
              "      <td>Christine Wicker</td>\n",
              "      <td>2004</td>\n",
              "      <td>HarperSanFrancisco</td>\n",
              "      <td>http://images.amazon.com/images/P/006008667X.0...</td>\n",
              "      <td>http://images.amazon.com/images/P/006008667X.0...</td>\n",
              "      <td>http://images.amazon.com/images/P/006008667X.0...</td>\n",
              "    </tr>\n",
              "    <tr>\n",
              "      <th>271358</th>\n",
              "      <td>0192126040</td>\n",
              "      <td>Republic (World's Classics)</td>\n",
              "      <td>Plato</td>\n",
              "      <td>1996</td>\n",
              "      <td>Oxford University Press</td>\n",
              "      <td>http://images.amazon.com/images/P/0192126040.0...</td>\n",
              "      <td>http://images.amazon.com/images/P/0192126040.0...</td>\n",
              "      <td>http://images.amazon.com/images/P/0192126040.0...</td>\n",
              "    </tr>\n",
              "    <tr>\n",
              "      <th>271359</th>\n",
              "      <td>0767409752</td>\n",
              "      <td>A Guided Tour of Rene Descartes' Meditations o...</td>\n",
              "      <td>Christopher  Biffle</td>\n",
              "      <td>2000</td>\n",
              "      <td>McGraw-Hill Humanities/Social Sciences/Languages</td>\n",
              "      <td>http://images.amazon.com/images/P/0767409752.0...</td>\n",
              "      <td>http://images.amazon.com/images/P/0767409752.0...</td>\n",
              "      <td>http://images.amazon.com/images/P/0767409752.0...</td>\n",
              "    </tr>\n",
              "  </tbody>\n",
              "</table>\n",
              "<p>271360 rows × 8 columns</p>\n",
              "</div>"
            ],
            "text/plain": [
              "              ISBN  ...                                        Image-URL-L\n",
              "0       0195153448  ...  http://images.amazon.com/images/P/0195153448.0...\n",
              "1       0002005018  ...  http://images.amazon.com/images/P/0002005018.0...\n",
              "2       0060973129  ...  http://images.amazon.com/images/P/0060973129.0...\n",
              "3       0374157065  ...  http://images.amazon.com/images/P/0374157065.0...\n",
              "4       0393045218  ...  http://images.amazon.com/images/P/0393045218.0...\n",
              "...            ...  ...                                                ...\n",
              "271355  0440400988  ...  http://images.amazon.com/images/P/0440400988.0...\n",
              "271356  0525447644  ...  http://images.amazon.com/images/P/0525447644.0...\n",
              "271357  006008667X  ...  http://images.amazon.com/images/P/006008667X.0...\n",
              "271358  0192126040  ...  http://images.amazon.com/images/P/0192126040.0...\n",
              "271359  0767409752  ...  http://images.amazon.com/images/P/0767409752.0...\n",
              "\n",
              "[271360 rows x 8 columns]"
            ]
          },
          "metadata": {},
          "execution_count": 5
        }
      ]
    },
    {
      "cell_type": "markdown",
      "metadata": {
        "id": "Jb2iPq1GLFtO"
      },
      "source": [
        "Menampilkan info dari dataset 'books' yang bernilai object"
      ]
    },
    {
      "cell_type": "code",
      "metadata": {
        "colab": {
          "base_uri": "https://localhost:8080/"
        },
        "id": "hXnO_gVYrvQb",
        "outputId": "fdb3fc72-11bf-4dbc-b586-c651725ab8c6"
      },
      "source": [
        "books.info()"
      ],
      "execution_count": 6,
      "outputs": [
        {
          "output_type": "stream",
          "name": "stdout",
          "text": [
            "<class 'pandas.core.frame.DataFrame'>\n",
            "RangeIndex: 271360 entries, 0 to 271359\n",
            "Data columns (total 8 columns):\n",
            " #   Column               Non-Null Count   Dtype \n",
            "---  ------               --------------   ----- \n",
            " 0   ISBN                 271360 non-null  object\n",
            " 1   Book-Title           271360 non-null  object\n",
            " 2   Book-Author          271359 non-null  object\n",
            " 3   Year-Of-Publication  271360 non-null  object\n",
            " 4   Publisher            271358 non-null  object\n",
            " 5   Image-URL-S          271360 non-null  object\n",
            " 6   Image-URL-M          271360 non-null  object\n",
            " 7   Image-URL-L          271357 non-null  object\n",
            "dtypes: object(8)\n",
            "memory usage: 16.6+ MB\n"
          ]
        }
      ]
    },
    {
      "cell_type": "code",
      "metadata": {
        "colab": {
          "base_uri": "https://localhost:8080/"
        },
        "id": "dDRozobzV2XO",
        "outputId": "11fc1f83-bdd7-4eb7-8933-f612c6582b1a"
      },
      "source": [
        "len(books)"
      ],
      "execution_count": 7,
      "outputs": [
        {
          "output_type": "execute_result",
          "data": {
            "text/plain": [
              "271360"
            ]
          },
          "metadata": {},
          "execution_count": 7
        }
      ]
    },
    {
      "cell_type": "markdown",
      "metadata": {
        "id": "Q2dg0nloLQOF"
      },
      "source": [
        "Mengambil data buku yang digunakan sebanyak 12000 dari data yang berjumlah 271360 dengan menggunakan fungsi *iloc*"
      ]
    },
    {
      "cell_type": "code",
      "metadata": {
        "colab": {
          "base_uri": "https://localhost:8080/"
        },
        "id": "up1OC8D6Vzqu",
        "outputId": "2132427b-2d8d-4974-969e-f521eb5234f6"
      },
      "source": [
        "data_books = books.iloc[:12000]\n",
        "len(data_books)"
      ],
      "execution_count": 8,
      "outputs": [
        {
          "output_type": "execute_result",
          "data": {
            "text/plain": [
              "12000"
            ]
          },
          "metadata": {},
          "execution_count": 8
        }
      ]
    },
    {
      "cell_type": "markdown",
      "metadata": {
        "id": "-DHcBzCyMarp"
      },
      "source": [
        "Menampilkan data yang ada pada dataset rating setelah dilakukan load dataset"
      ]
    },
    {
      "cell_type": "code",
      "metadata": {
        "colab": {
          "base_uri": "https://localhost:8080/",
          "height": 418
        },
        "id": "swiDVCPorzuI",
        "outputId": "c2b31650-9da6-4537-85d6-91791db81ea3"
      },
      "source": [
        "rating"
      ],
      "execution_count": 9,
      "outputs": [
        {
          "output_type": "execute_result",
          "data": {
            "text/html": [
              "<div>\n",
              "<style scoped>\n",
              "    .dataframe tbody tr th:only-of-type {\n",
              "        vertical-align: middle;\n",
              "    }\n",
              "\n",
              "    .dataframe tbody tr th {\n",
              "        vertical-align: top;\n",
              "    }\n",
              "\n",
              "    .dataframe thead th {\n",
              "        text-align: right;\n",
              "    }\n",
              "</style>\n",
              "<table border=\"1\" class=\"dataframe\">\n",
              "  <thead>\n",
              "    <tr style=\"text-align: right;\">\n",
              "      <th></th>\n",
              "      <th>User-ID</th>\n",
              "      <th>ISBN</th>\n",
              "      <th>Book-Rating</th>\n",
              "    </tr>\n",
              "  </thead>\n",
              "  <tbody>\n",
              "    <tr>\n",
              "      <th>0</th>\n",
              "      <td>276725</td>\n",
              "      <td>034545104X</td>\n",
              "      <td>0</td>\n",
              "    </tr>\n",
              "    <tr>\n",
              "      <th>1</th>\n",
              "      <td>276726</td>\n",
              "      <td>0155061224</td>\n",
              "      <td>5</td>\n",
              "    </tr>\n",
              "    <tr>\n",
              "      <th>2</th>\n",
              "      <td>276727</td>\n",
              "      <td>0446520802</td>\n",
              "      <td>0</td>\n",
              "    </tr>\n",
              "    <tr>\n",
              "      <th>3</th>\n",
              "      <td>276729</td>\n",
              "      <td>052165615X</td>\n",
              "      <td>3</td>\n",
              "    </tr>\n",
              "    <tr>\n",
              "      <th>4</th>\n",
              "      <td>276729</td>\n",
              "      <td>0521795028</td>\n",
              "      <td>6</td>\n",
              "    </tr>\n",
              "    <tr>\n",
              "      <th>...</th>\n",
              "      <td>...</td>\n",
              "      <td>...</td>\n",
              "      <td>...</td>\n",
              "    </tr>\n",
              "    <tr>\n",
              "      <th>1149775</th>\n",
              "      <td>276704</td>\n",
              "      <td>1563526298</td>\n",
              "      <td>9</td>\n",
              "    </tr>\n",
              "    <tr>\n",
              "      <th>1149776</th>\n",
              "      <td>276706</td>\n",
              "      <td>0679447156</td>\n",
              "      <td>0</td>\n",
              "    </tr>\n",
              "    <tr>\n",
              "      <th>1149777</th>\n",
              "      <td>276709</td>\n",
              "      <td>0515107662</td>\n",
              "      <td>10</td>\n",
              "    </tr>\n",
              "    <tr>\n",
              "      <th>1149778</th>\n",
              "      <td>276721</td>\n",
              "      <td>0590442449</td>\n",
              "      <td>10</td>\n",
              "    </tr>\n",
              "    <tr>\n",
              "      <th>1149779</th>\n",
              "      <td>276723</td>\n",
              "      <td>05162443314</td>\n",
              "      <td>8</td>\n",
              "    </tr>\n",
              "  </tbody>\n",
              "</table>\n",
              "<p>1149780 rows × 3 columns</p>\n",
              "</div>"
            ],
            "text/plain": [
              "         User-ID         ISBN  Book-Rating\n",
              "0         276725   034545104X            0\n",
              "1         276726   0155061224            5\n",
              "2         276727   0446520802            0\n",
              "3         276729   052165615X            3\n",
              "4         276729   0521795028            6\n",
              "...          ...          ...          ...\n",
              "1149775   276704   1563526298            9\n",
              "1149776   276706   0679447156            0\n",
              "1149777   276709   0515107662           10\n",
              "1149778   276721   0590442449           10\n",
              "1149779   276723  05162443314            8\n",
              "\n",
              "[1149780 rows x 3 columns]"
            ]
          },
          "metadata": {},
          "execution_count": 9
        }
      ]
    },
    {
      "cell_type": "markdown",
      "metadata": {
        "id": "sDsXS6QXMgS4"
      },
      "source": [
        "Menampilkan info dari dataset 'rating' yang bernilai integer dan object"
      ]
    },
    {
      "cell_type": "code",
      "metadata": {
        "colab": {
          "base_uri": "https://localhost:8080/"
        },
        "id": "8oJtxwfcr3ud",
        "outputId": "6fb694ae-6d65-49f0-c8f0-504a6c0a2f67"
      },
      "source": [
        "rating.info()"
      ],
      "execution_count": 10,
      "outputs": [
        {
          "output_type": "stream",
          "name": "stdout",
          "text": [
            "<class 'pandas.core.frame.DataFrame'>\n",
            "RangeIndex: 1149780 entries, 0 to 1149779\n",
            "Data columns (total 3 columns):\n",
            " #   Column       Non-Null Count    Dtype \n",
            "---  ------       --------------    ----- \n",
            " 0   User-ID      1149780 non-null  int64 \n",
            " 1   ISBN         1149780 non-null  object\n",
            " 2   Book-Rating  1149780 non-null  int64 \n",
            "dtypes: int64(2), object(1)\n",
            "memory usage: 26.3+ MB\n"
          ]
        }
      ]
    },
    {
      "cell_type": "code",
      "metadata": {
        "colab": {
          "base_uri": "https://localhost:8080/"
        },
        "id": "VGylpVO9WSF5",
        "outputId": "f1349af3-48c9-4b5f-e274-7c32020438b2"
      },
      "source": [
        "len(rating)"
      ],
      "execution_count": 11,
      "outputs": [
        {
          "output_type": "execute_result",
          "data": {
            "text/plain": [
              "1149780"
            ]
          },
          "metadata": {},
          "execution_count": 11
        }
      ]
    },
    {
      "cell_type": "markdown",
      "metadata": {
        "id": "awe7IC5FMpdq"
      },
      "source": [
        "Mengambil data rating yang digunakan sebanyak 12000 dari data yang berjumlah 1149780 dengan menggunakan fungsi *iloc*"
      ]
    },
    {
      "cell_type": "code",
      "metadata": {
        "colab": {
          "base_uri": "https://localhost:8080/"
        },
        "id": "3DSSR6-sWUew",
        "outputId": "5c931767-946b-4780-e5a7-3ac72831314b"
      },
      "source": [
        "data_rating = rating.iloc[:12000]\n",
        "len(data_rating)"
      ],
      "execution_count": 12,
      "outputs": [
        {
          "output_type": "execute_result",
          "data": {
            "text/plain": [
              "12000"
            ]
          },
          "metadata": {},
          "execution_count": 12
        }
      ]
    },
    {
      "cell_type": "markdown",
      "metadata": {
        "id": "XywuX3cMMzQu"
      },
      "source": [
        "Melakukan *rename* kolom pada data_books yang digunakan untuk memudahkan menuliskan kolom"
      ]
    },
    {
      "cell_type": "code",
      "metadata": {
        "colab": {
          "base_uri": "https://localhost:8080/",
          "height": 915
        },
        "id": "md0KIZMMsEEH",
        "outputId": "1c8b85b6-fb23-4d61-d754-932b2634e37f"
      },
      "source": [
        "data_books.rename(columns = {'Book-Title':'Book_Title', 'Book-Author': 'Book_Author', 'Year-Of-Publication': 'Year_Publication'},inplace = True)\n",
        "data_books"
      ],
      "execution_count": 13,
      "outputs": [
        {
          "output_type": "stream",
          "name": "stderr",
          "text": [
            "/usr/local/lib/python3.7/dist-packages/pandas/core/frame.py:4308: SettingWithCopyWarning: \n",
            "A value is trying to be set on a copy of a slice from a DataFrame\n",
            "\n",
            "See the caveats in the documentation: https://pandas.pydata.org/pandas-docs/stable/user_guide/indexing.html#returning-a-view-versus-a-copy\n",
            "  errors=errors,\n"
          ]
        },
        {
          "output_type": "execute_result",
          "data": {
            "text/html": [
              "<div>\n",
              "<style scoped>\n",
              "    .dataframe tbody tr th:only-of-type {\n",
              "        vertical-align: middle;\n",
              "    }\n",
              "\n",
              "    .dataframe tbody tr th {\n",
              "        vertical-align: top;\n",
              "    }\n",
              "\n",
              "    .dataframe thead th {\n",
              "        text-align: right;\n",
              "    }\n",
              "</style>\n",
              "<table border=\"1\" class=\"dataframe\">\n",
              "  <thead>\n",
              "    <tr style=\"text-align: right;\">\n",
              "      <th></th>\n",
              "      <th>ISBN</th>\n",
              "      <th>Book_Title</th>\n",
              "      <th>Book_Author</th>\n",
              "      <th>Year_Publication</th>\n",
              "      <th>Publisher</th>\n",
              "      <th>Image-URL-S</th>\n",
              "      <th>Image-URL-M</th>\n",
              "      <th>Image-URL-L</th>\n",
              "    </tr>\n",
              "  </thead>\n",
              "  <tbody>\n",
              "    <tr>\n",
              "      <th>0</th>\n",
              "      <td>0195153448</td>\n",
              "      <td>Classical Mythology</td>\n",
              "      <td>Mark P. O. Morford</td>\n",
              "      <td>2002</td>\n",
              "      <td>Oxford University Press</td>\n",
              "      <td>http://images.amazon.com/images/P/0195153448.0...</td>\n",
              "      <td>http://images.amazon.com/images/P/0195153448.0...</td>\n",
              "      <td>http://images.amazon.com/images/P/0195153448.0...</td>\n",
              "    </tr>\n",
              "    <tr>\n",
              "      <th>1</th>\n",
              "      <td>0002005018</td>\n",
              "      <td>Clara Callan</td>\n",
              "      <td>Richard Bruce Wright</td>\n",
              "      <td>2001</td>\n",
              "      <td>HarperFlamingo Canada</td>\n",
              "      <td>http://images.amazon.com/images/P/0002005018.0...</td>\n",
              "      <td>http://images.amazon.com/images/P/0002005018.0...</td>\n",
              "      <td>http://images.amazon.com/images/P/0002005018.0...</td>\n",
              "    </tr>\n",
              "    <tr>\n",
              "      <th>2</th>\n",
              "      <td>0060973129</td>\n",
              "      <td>Decision in Normandy</td>\n",
              "      <td>Carlo D'Este</td>\n",
              "      <td>1991</td>\n",
              "      <td>HarperPerennial</td>\n",
              "      <td>http://images.amazon.com/images/P/0060973129.0...</td>\n",
              "      <td>http://images.amazon.com/images/P/0060973129.0...</td>\n",
              "      <td>http://images.amazon.com/images/P/0060973129.0...</td>\n",
              "    </tr>\n",
              "    <tr>\n",
              "      <th>3</th>\n",
              "      <td>0374157065</td>\n",
              "      <td>Flu: The Story of the Great Influenza Pandemic...</td>\n",
              "      <td>Gina Bari Kolata</td>\n",
              "      <td>1999</td>\n",
              "      <td>Farrar Straus Giroux</td>\n",
              "      <td>http://images.amazon.com/images/P/0374157065.0...</td>\n",
              "      <td>http://images.amazon.com/images/P/0374157065.0...</td>\n",
              "      <td>http://images.amazon.com/images/P/0374157065.0...</td>\n",
              "    </tr>\n",
              "    <tr>\n",
              "      <th>4</th>\n",
              "      <td>0393045218</td>\n",
              "      <td>The Mummies of Urumchi</td>\n",
              "      <td>E. J. W. Barber</td>\n",
              "      <td>1999</td>\n",
              "      <td>W. W. Norton &amp;amp; Company</td>\n",
              "      <td>http://images.amazon.com/images/P/0393045218.0...</td>\n",
              "      <td>http://images.amazon.com/images/P/0393045218.0...</td>\n",
              "      <td>http://images.amazon.com/images/P/0393045218.0...</td>\n",
              "    </tr>\n",
              "    <tr>\n",
              "      <th>...</th>\n",
              "      <td>...</td>\n",
              "      <td>...</td>\n",
              "      <td>...</td>\n",
              "      <td>...</td>\n",
              "      <td>...</td>\n",
              "      <td>...</td>\n",
              "      <td>...</td>\n",
              "      <td>...</td>\n",
              "    </tr>\n",
              "    <tr>\n",
              "      <th>11995</th>\n",
              "      <td>0030291798</td>\n",
              "      <td>Business Marketing Management: A Strategic Vie...</td>\n",
              "      <td>Michael D. Hutt</td>\n",
              "      <td>2000</td>\n",
              "      <td>South-Western College Pub</td>\n",
              "      <td>http://images.amazon.com/images/P/0030291798.0...</td>\n",
              "      <td>http://images.amazon.com/images/P/0030291798.0...</td>\n",
              "      <td>http://images.amazon.com/images/P/0030291798.0...</td>\n",
              "    </tr>\n",
              "    <tr>\n",
              "      <th>11996</th>\n",
              "      <td>0060959541</td>\n",
              "      <td>From This Day Forward</td>\n",
              "      <td>Cokie Roberts</td>\n",
              "      <td>2001</td>\n",
              "      <td>Perennial</td>\n",
              "      <td>http://images.amazon.com/images/P/0060959541.0...</td>\n",
              "      <td>http://images.amazon.com/images/P/0060959541.0...</td>\n",
              "      <td>http://images.amazon.com/images/P/0060959541.0...</td>\n",
              "    </tr>\n",
              "    <tr>\n",
              "      <th>11997</th>\n",
              "      <td>0812967224</td>\n",
              "      <td>The Day I Turned Uncool: Confessions of a Relu...</td>\n",
              "      <td>Dan Zevin</td>\n",
              "      <td>2002</td>\n",
              "      <td>Villard Books</td>\n",
              "      <td>http://images.amazon.com/images/P/0812967224.0...</td>\n",
              "      <td>http://images.amazon.com/images/P/0812967224.0...</td>\n",
              "      <td>http://images.amazon.com/images/P/0812967224.0...</td>\n",
              "    </tr>\n",
              "    <tr>\n",
              "      <th>11998</th>\n",
              "      <td>0374250995</td>\n",
              "      <td>Rivonia's Children: Three Families and the Cos...</td>\n",
              "      <td>Glenn Frankel</td>\n",
              "      <td>1999</td>\n",
              "      <td>Farrar Straus &amp;amp; Giroux</td>\n",
              "      <td>http://images.amazon.com/images/P/0374250995.0...</td>\n",
              "      <td>http://images.amazon.com/images/P/0374250995.0...</td>\n",
              "      <td>http://images.amazon.com/images/P/0374250995.0...</td>\n",
              "    </tr>\n",
              "    <tr>\n",
              "      <th>11999</th>\n",
              "      <td>0380710722</td>\n",
              "      <td>It's Always Something</td>\n",
              "      <td>Gilda Radner</td>\n",
              "      <td>1990</td>\n",
              "      <td>Avon</td>\n",
              "      <td>http://images.amazon.com/images/P/0380710722.0...</td>\n",
              "      <td>http://images.amazon.com/images/P/0380710722.0...</td>\n",
              "      <td>http://images.amazon.com/images/P/0380710722.0...</td>\n",
              "    </tr>\n",
              "  </tbody>\n",
              "</table>\n",
              "<p>12000 rows × 8 columns</p>\n",
              "</div>"
            ],
            "text/plain": [
              "             ISBN  ...                                        Image-URL-L\n",
              "0      0195153448  ...  http://images.amazon.com/images/P/0195153448.0...\n",
              "1      0002005018  ...  http://images.amazon.com/images/P/0002005018.0...\n",
              "2      0060973129  ...  http://images.amazon.com/images/P/0060973129.0...\n",
              "3      0374157065  ...  http://images.amazon.com/images/P/0374157065.0...\n",
              "4      0393045218  ...  http://images.amazon.com/images/P/0393045218.0...\n",
              "...           ...  ...                                                ...\n",
              "11995  0030291798  ...  http://images.amazon.com/images/P/0030291798.0...\n",
              "11996  0060959541  ...  http://images.amazon.com/images/P/0060959541.0...\n",
              "11997  0812967224  ...  http://images.amazon.com/images/P/0812967224.0...\n",
              "11998  0374250995  ...  http://images.amazon.com/images/P/0374250995.0...\n",
              "11999  0380710722  ...  http://images.amazon.com/images/P/0380710722.0...\n",
              "\n",
              "[12000 rows x 8 columns]"
            ]
          },
          "metadata": {},
          "execution_count": 13
        }
      ]
    },
    {
      "cell_type": "markdown",
      "metadata": {
        "id": "Kd1FbpNNNPYy"
      },
      "source": [
        "Melakukan *rename* kolom pada data_rating yang digunakan untuk memudahkan menuliskan kolom"
      ]
    },
    {
      "cell_type": "code",
      "metadata": {
        "colab": {
          "base_uri": "https://localhost:8080/",
          "height": 507
        },
        "id": "Os5j7Iyys9xC",
        "outputId": "2670159d-ca8c-4dca-db92-6e3881642770"
      },
      "source": [
        "data_rating.rename(columns = {'User-ID':'UserID', 'Book-Rating': 'Book_Rating'},inplace = True)\n",
        "data_rating"
      ],
      "execution_count": 14,
      "outputs": [
        {
          "output_type": "stream",
          "name": "stderr",
          "text": [
            "/usr/local/lib/python3.7/dist-packages/pandas/core/frame.py:4308: SettingWithCopyWarning: \n",
            "A value is trying to be set on a copy of a slice from a DataFrame\n",
            "\n",
            "See the caveats in the documentation: https://pandas.pydata.org/pandas-docs/stable/user_guide/indexing.html#returning-a-view-versus-a-copy\n",
            "  errors=errors,\n"
          ]
        },
        {
          "output_type": "execute_result",
          "data": {
            "text/html": [
              "<div>\n",
              "<style scoped>\n",
              "    .dataframe tbody tr th:only-of-type {\n",
              "        vertical-align: middle;\n",
              "    }\n",
              "\n",
              "    .dataframe tbody tr th {\n",
              "        vertical-align: top;\n",
              "    }\n",
              "\n",
              "    .dataframe thead th {\n",
              "        text-align: right;\n",
              "    }\n",
              "</style>\n",
              "<table border=\"1\" class=\"dataframe\">\n",
              "  <thead>\n",
              "    <tr style=\"text-align: right;\">\n",
              "      <th></th>\n",
              "      <th>UserID</th>\n",
              "      <th>ISBN</th>\n",
              "      <th>Book_Rating</th>\n",
              "    </tr>\n",
              "  </thead>\n",
              "  <tbody>\n",
              "    <tr>\n",
              "      <th>0</th>\n",
              "      <td>276725</td>\n",
              "      <td>034545104X</td>\n",
              "      <td>0</td>\n",
              "    </tr>\n",
              "    <tr>\n",
              "      <th>1</th>\n",
              "      <td>276726</td>\n",
              "      <td>0155061224</td>\n",
              "      <td>5</td>\n",
              "    </tr>\n",
              "    <tr>\n",
              "      <th>2</th>\n",
              "      <td>276727</td>\n",
              "      <td>0446520802</td>\n",
              "      <td>0</td>\n",
              "    </tr>\n",
              "    <tr>\n",
              "      <th>3</th>\n",
              "      <td>276729</td>\n",
              "      <td>052165615X</td>\n",
              "      <td>3</td>\n",
              "    </tr>\n",
              "    <tr>\n",
              "      <th>4</th>\n",
              "      <td>276729</td>\n",
              "      <td>0521795028</td>\n",
              "      <td>6</td>\n",
              "    </tr>\n",
              "    <tr>\n",
              "      <th>...</th>\n",
              "      <td>...</td>\n",
              "      <td>...</td>\n",
              "      <td>...</td>\n",
              "    </tr>\n",
              "    <tr>\n",
              "      <th>11995</th>\n",
              "      <td>929</td>\n",
              "      <td>067163884X</td>\n",
              "      <td>7</td>\n",
              "    </tr>\n",
              "    <tr>\n",
              "      <th>11996</th>\n",
              "      <td>929</td>\n",
              "      <td>0671667815</td>\n",
              "      <td>0</td>\n",
              "    </tr>\n",
              "    <tr>\n",
              "      <th>11997</th>\n",
              "      <td>929</td>\n",
              "      <td>067168390X</td>\n",
              "      <td>0</td>\n",
              "    </tr>\n",
              "    <tr>\n",
              "      <th>11998</th>\n",
              "      <td>929</td>\n",
              "      <td>0671868691</td>\n",
              "      <td>0</td>\n",
              "    </tr>\n",
              "    <tr>\n",
              "      <th>11999</th>\n",
              "      <td>929</td>\n",
              "      <td>0679741011</td>\n",
              "      <td>5</td>\n",
              "    </tr>\n",
              "  </tbody>\n",
              "</table>\n",
              "<p>12000 rows × 3 columns</p>\n",
              "</div>"
            ],
            "text/plain": [
              "       UserID        ISBN  Book_Rating\n",
              "0      276725  034545104X            0\n",
              "1      276726  0155061224            5\n",
              "2      276727  0446520802            0\n",
              "3      276729  052165615X            3\n",
              "4      276729  0521795028            6\n",
              "...       ...         ...          ...\n",
              "11995     929  067163884X            7\n",
              "11996     929  0671667815            0\n",
              "11997     929  067168390X            0\n",
              "11998     929  0671868691            0\n",
              "11999     929  0679741011            5\n",
              "\n",
              "[12000 rows x 3 columns]"
            ]
          },
          "metadata": {},
          "execution_count": 14
        }
      ]
    },
    {
      "cell_type": "code",
      "metadata": {
        "id": "7R3i2bc14dc4",
        "colab": {
          "base_uri": "https://localhost:8080/"
        },
        "outputId": "69dc8f2b-8af6-48a5-cbd0-8fd273aa2d3d"
      },
      "source": [
        "print('Jumlah Buku berdasarkan Rating: ', len(data_rating.ISBN.unique()))\n",
        "print('Jumlah Buku berdasarkan Daftar Buku: ', len(data_books.ISBN.unique()))"
      ],
      "execution_count": 15,
      "outputs": [
        {
          "output_type": "stream",
          "name": "stdout",
          "text": [
            "Jumlah Buku berdasarkan Rating:  10945\n",
            "Jumlah Buku berdasarkan Daftar Buku:  12000\n"
          ]
        }
      ]
    },
    {
      "cell_type": "markdown",
      "metadata": {
        "id": "Cd_noPjxT3lD"
      },
      "source": [
        "Melakukan drop kolom pada 'data_books' dikarenakan kolom tersebut tidak digunakan pada proses"
      ]
    },
    {
      "cell_type": "code",
      "metadata": {
        "id": "5veDUWS7r7UU",
        "colab": {
          "base_uri": "https://localhost:8080/"
        },
        "outputId": "ba059589-54d5-47a0-961f-c42e32d83610"
      },
      "source": [
        "data_books.drop(['Image-URL-S', 'Image-URL-M', 'Image-URL-L' ], axis=1, inplace=True)"
      ],
      "execution_count": 16,
      "outputs": [
        {
          "output_type": "stream",
          "name": "stderr",
          "text": [
            "/usr/local/lib/python3.7/dist-packages/pandas/core/frame.py:4174: SettingWithCopyWarning: \n",
            "A value is trying to be set on a copy of a slice from a DataFrame\n",
            "\n",
            "See the caveats in the documentation: https://pandas.pydata.org/pandas-docs/stable/user_guide/indexing.html#returning-a-view-versus-a-copy\n",
            "  errors=errors,\n"
          ]
        }
      ]
    },
    {
      "cell_type": "markdown",
      "metadata": {
        "id": "lfneqoJkUP_F"
      },
      "source": [
        "Mengubah kolom 'Year_Publication' yang awalnya bertipe data object menjadi integer"
      ]
    },
    {
      "cell_type": "code",
      "metadata": {
        "id": "_VDDCD1nuk_r",
        "colab": {
          "base_uri": "https://localhost:8080/"
        },
        "outputId": "2d62b763-cea1-4e4c-883d-836f14949f30"
      },
      "source": [
        "data_books['Year_Publication'] = pd.to_numeric(data_books['Year_Publication'], errors='coerce')"
      ],
      "execution_count": 17,
      "outputs": [
        {
          "output_type": "stream",
          "name": "stderr",
          "text": [
            "/usr/local/lib/python3.7/dist-packages/ipykernel_launcher.py:1: SettingWithCopyWarning: \n",
            "A value is trying to be set on a copy of a slice from a DataFrame.\n",
            "Try using .loc[row_indexer,col_indexer] = value instead\n",
            "\n",
            "See the caveats in the documentation: https://pandas.pydata.org/pandas-docs/stable/user_guide/indexing.html#returning-a-view-versus-a-copy\n",
            "  \"\"\"Entry point for launching an IPython kernel.\n"
          ]
        }
      ]
    },
    {
      "cell_type": "code",
      "metadata": {
        "colab": {
          "base_uri": "https://localhost:8080/"
        },
        "id": "BrO7mITexOoL",
        "outputId": "2a144e04-c094-424c-ef0c-e480f3fbf094"
      },
      "source": [
        "data_books.info()"
      ],
      "execution_count": 18,
      "outputs": [
        {
          "output_type": "stream",
          "name": "stdout",
          "text": [
            "<class 'pandas.core.frame.DataFrame'>\n",
            "RangeIndex: 12000 entries, 0 to 11999\n",
            "Data columns (total 5 columns):\n",
            " #   Column            Non-Null Count  Dtype \n",
            "---  ------            --------------  ----- \n",
            " 0   ISBN              12000 non-null  object\n",
            " 1   Book_Title        12000 non-null  object\n",
            " 2   Book_Author       12000 non-null  object\n",
            " 3   Year_Publication  12000 non-null  int64 \n",
            " 4   Publisher         12000 non-null  object\n",
            "dtypes: int64(1), object(4)\n",
            "memory usage: 468.9+ KB\n"
          ]
        }
      ]
    },
    {
      "cell_type": "markdown",
      "metadata": {
        "id": "hA845FcIVxZW"
      },
      "source": [
        "Menggabungkan 'data_books' dan 'data_rating' dengan menggunakan fungsi *merge*"
      ]
    },
    {
      "cell_type": "code",
      "metadata": {
        "id": "RVlq7DvkxgzV"
      },
      "source": [
        "data_train = data_rating.merge(data_books, left_on = 'ISBN', right_on = 'ISBN')"
      ],
      "execution_count": 19,
      "outputs": []
    },
    {
      "cell_type": "code",
      "metadata": {
        "colab": {
          "base_uri": "https://localhost:8080/",
          "height": 418
        },
        "id": "dj2TP8ua1Bkh",
        "outputId": "5e78ed73-25c9-4b35-ae39-2fd2e044a1ce"
      },
      "source": [
        "data_train"
      ],
      "execution_count": 20,
      "outputs": [
        {
          "output_type": "execute_result",
          "data": {
            "text/html": [
              "<div>\n",
              "<style scoped>\n",
              "    .dataframe tbody tr th:only-of-type {\n",
              "        vertical-align: middle;\n",
              "    }\n",
              "\n",
              "    .dataframe tbody tr th {\n",
              "        vertical-align: top;\n",
              "    }\n",
              "\n",
              "    .dataframe thead th {\n",
              "        text-align: right;\n",
              "    }\n",
              "</style>\n",
              "<table border=\"1\" class=\"dataframe\">\n",
              "  <thead>\n",
              "    <tr style=\"text-align: right;\">\n",
              "      <th></th>\n",
              "      <th>UserID</th>\n",
              "      <th>ISBN</th>\n",
              "      <th>Book_Rating</th>\n",
              "      <th>Book_Title</th>\n",
              "      <th>Book_Author</th>\n",
              "      <th>Year_Publication</th>\n",
              "      <th>Publisher</th>\n",
              "    </tr>\n",
              "  </thead>\n",
              "  <tbody>\n",
              "    <tr>\n",
              "      <th>0</th>\n",
              "      <td>276725</td>\n",
              "      <td>034545104X</td>\n",
              "      <td>0</td>\n",
              "      <td>Flesh Tones: A Novel</td>\n",
              "      <td>M. J. Rose</td>\n",
              "      <td>2002</td>\n",
              "      <td>Ballantine Books</td>\n",
              "    </tr>\n",
              "    <tr>\n",
              "      <th>1</th>\n",
              "      <td>276727</td>\n",
              "      <td>0446520802</td>\n",
              "      <td>0</td>\n",
              "      <td>The Notebook</td>\n",
              "      <td>Nicholas Sparks</td>\n",
              "      <td>1996</td>\n",
              "      <td>Warner Books</td>\n",
              "    </tr>\n",
              "    <tr>\n",
              "      <th>2</th>\n",
              "      <td>278418</td>\n",
              "      <td>0446520802</td>\n",
              "      <td>0</td>\n",
              "      <td>The Notebook</td>\n",
              "      <td>Nicholas Sparks</td>\n",
              "      <td>1996</td>\n",
              "      <td>Warner Books</td>\n",
              "    </tr>\n",
              "    <tr>\n",
              "      <th>3</th>\n",
              "      <td>638</td>\n",
              "      <td>0446520802</td>\n",
              "      <td>0</td>\n",
              "      <td>The Notebook</td>\n",
              "      <td>Nicholas Sparks</td>\n",
              "      <td>1996</td>\n",
              "      <td>Warner Books</td>\n",
              "    </tr>\n",
              "    <tr>\n",
              "      <th>4</th>\n",
              "      <td>276744</td>\n",
              "      <td>038550120X</td>\n",
              "      <td>7</td>\n",
              "      <td>A Painted House</td>\n",
              "      <td>JOHN GRISHAM</td>\n",
              "      <td>2001</td>\n",
              "      <td>Doubleday</td>\n",
              "    </tr>\n",
              "    <tr>\n",
              "      <th>...</th>\n",
              "      <td>...</td>\n",
              "      <td>...</td>\n",
              "      <td>...</td>\n",
              "      <td>...</td>\n",
              "      <td>...</td>\n",
              "      <td>...</td>\n",
              "      <td>...</td>\n",
              "    </tr>\n",
              "    <tr>\n",
              "      <th>3336</th>\n",
              "      <td>929</td>\n",
              "      <td>0553801031</td>\n",
              "      <td>9</td>\n",
              "      <td>The New Rabbi : A Congregation Searches for It...</td>\n",
              "      <td>STEPHEN FRIED</td>\n",
              "      <td>2002</td>\n",
              "      <td>Bantam</td>\n",
              "    </tr>\n",
              "    <tr>\n",
              "      <th>3337</th>\n",
              "      <td>929</td>\n",
              "      <td>0590457225</td>\n",
              "      <td>0</td>\n",
              "      <td>Dealing With Dragons (Enchanted Forest Chronic...</td>\n",
              "      <td>Patricia C. Wrede</td>\n",
              "      <td>1992</td>\n",
              "      <td>Scholastic</td>\n",
              "    </tr>\n",
              "    <tr>\n",
              "      <th>3338</th>\n",
              "      <td>929</td>\n",
              "      <td>067163884X</td>\n",
              "      <td>7</td>\n",
              "      <td>THIS HALLOWED GRND</td>\n",
              "      <td>Bruce Catton</td>\n",
              "      <td>1986</td>\n",
              "      <td>Pocket</td>\n",
              "    </tr>\n",
              "    <tr>\n",
              "      <th>3339</th>\n",
              "      <td>929</td>\n",
              "      <td>067168390X</td>\n",
              "      <td>0</td>\n",
              "      <td>Lonesome Dove</td>\n",
              "      <td>Larry McMurtry</td>\n",
              "      <td>1988</td>\n",
              "      <td>Pocket</td>\n",
              "    </tr>\n",
              "    <tr>\n",
              "      <th>3340</th>\n",
              "      <td>929</td>\n",
              "      <td>0679741011</td>\n",
              "      <td>5</td>\n",
              "      <td>Sex, Art, and American Culture: Essays</td>\n",
              "      <td>Camille Paglia</td>\n",
              "      <td>1992</td>\n",
              "      <td>Vintage Books USA</td>\n",
              "    </tr>\n",
              "  </tbody>\n",
              "</table>\n",
              "<p>3341 rows × 7 columns</p>\n",
              "</div>"
            ],
            "text/plain": [
              "      UserID        ISBN  ...  Year_Publication          Publisher\n",
              "0     276725  034545104X  ...              2002   Ballantine Books\n",
              "1     276727  0446520802  ...              1996       Warner Books\n",
              "2     278418  0446520802  ...              1996       Warner Books\n",
              "3        638  0446520802  ...              1996       Warner Books\n",
              "4     276744  038550120X  ...              2001          Doubleday\n",
              "...      ...         ...  ...               ...                ...\n",
              "3336     929  0553801031  ...              2002             Bantam\n",
              "3337     929  0590457225  ...              1992         Scholastic\n",
              "3338     929  067163884X  ...              1986             Pocket\n",
              "3339     929  067168390X  ...              1988             Pocket\n",
              "3340     929  0679741011  ...              1992  Vintage Books USA\n",
              "\n",
              "[3341 rows x 7 columns]"
            ]
          },
          "metadata": {},
          "execution_count": 20
        }
      ]
    },
    {
      "cell_type": "code",
      "metadata": {
        "colab": {
          "base_uri": "https://localhost:8080/"
        },
        "id": "AFc9NZdDNiVI",
        "outputId": "9222c6d7-d093-4a64-9959-7754e71f6a9f"
      },
      "source": [
        "data_train.info()"
      ],
      "execution_count": 21,
      "outputs": [
        {
          "output_type": "stream",
          "name": "stdout",
          "text": [
            "<class 'pandas.core.frame.DataFrame'>\n",
            "Int64Index: 3341 entries, 0 to 3340\n",
            "Data columns (total 7 columns):\n",
            " #   Column            Non-Null Count  Dtype \n",
            "---  ------            --------------  ----- \n",
            " 0   UserID            3341 non-null   int64 \n",
            " 1   ISBN              3341 non-null   object\n",
            " 2   Book_Rating       3341 non-null   int64 \n",
            " 3   Book_Title        3341 non-null   object\n",
            " 4   Book_Author       3341 non-null   object\n",
            " 5   Year_Publication  3341 non-null   int64 \n",
            " 6   Publisher         3341 non-null   object\n",
            "dtypes: int64(3), object(4)\n",
            "memory usage: 208.8+ KB\n"
          ]
        }
      ]
    },
    {
      "cell_type": "markdown",
      "metadata": {
        "id": "71tRR3WzYmcc"
      },
      "source": [
        "Menampilkan deskripsi yang digunakan untuk memberikan informasi statistik pada kolom 'Year_Publication'"
      ]
    },
    {
      "cell_type": "code",
      "metadata": {
        "colab": {
          "base_uri": "https://localhost:8080/"
        },
        "id": "9lnb5MO0QsZs",
        "outputId": "90cb4ba6-06ee-4b65-dd2d-cd823ded5736"
      },
      "source": [
        "data_train['Year_Publication'].describe()"
      ],
      "execution_count": 22,
      "outputs": [
        {
          "output_type": "execute_result",
          "data": {
            "text/plain": [
              "count    3341.000000\n",
              "mean     1973.237953\n",
              "std       211.802754\n",
              "min         0.000000\n",
              "25%      1993.000000\n",
              "50%      1998.000000\n",
              "75%      2001.000000\n",
              "max      2004.000000\n",
              "Name: Year_Publication, dtype: float64"
            ]
          },
          "metadata": {},
          "execution_count": 22
        }
      ]
    },
    {
      "cell_type": "markdown",
      "metadata": {
        "id": "wNjNk2lcZKV6"
      },
      "source": [
        "Menampilkan kolom 'Year_Publication' dengan menggunakan *barplot* dimana data tahun yang ditampilkan dari range 0-9"
      ]
    },
    {
      "cell_type": "code",
      "metadata": {
        "id": "hAEExR7vGwRE"
      },
      "source": [
        "year=data_train['Year_Publication'].value_counts()[0:10]"
      ],
      "execution_count": 23,
      "outputs": []
    },
    {
      "cell_type": "code",
      "metadata": {
        "colab": {
          "base_uri": "https://localhost:8080/",
          "height": 512
        },
        "id": "E9GpAbGvG76X",
        "outputId": "8e25e15c-5354-4433-f8a9-8d02c65897f2"
      },
      "source": [
        "plt.figure(figsize=(16,8))\n",
        "sns.barplot(x=year.index,y=year)\n",
        "plt.xticks(rotation=90)\n",
        "plt.xlabel('Year')\n",
        "plt.ylabel('Count')\n",
        "plt.show()"
      ],
      "execution_count": 24,
      "outputs": [
        {
          "output_type": "display_data",
          "data": {
            "image/png": "[encoded data removed]",
            "text/plain": [
              "<Figure size 1152x576 with 1 Axes>"
            ]
          },
          "metadata": {
            "needs_background": "light"
          }
        }
      ]
    },
    {
      "cell_type": "markdown",
      "metadata": {
        "id": "WAjRLRvEaueA"
      },
      "source": [
        "Bila dilihat dari gambar diatas maka tahun 2002 memiliki jumlah tahun terbanyak dalam publikasi dibandingkan dari tahun yang lainnya"
      ]
    },
    {
      "cell_type": "markdown",
      "metadata": {
        "id": "n0uF7jv4bmxz"
      },
      "source": [
        "Selanjutnya, menampilkan 10 penulis terpopuler berasal dari kolom 'Book_Author' dimana menggunakan *barplot* untuk menampilkan gambar. Bila dilihat dari gambar dibawah ini penulis terpopuler dengan peringkat pertama yitu 'James patterson'. Namun bila di lihat dengan seksama penulis peringkat ketiga dan keempat memiliki jumlah yang sedikit berbeda."
      ]
    },
    {
      "cell_type": "code",
      "metadata": {
        "colab": {
          "base_uri": "https://localhost:8080/",
          "height": 513
        },
        "id": "jPdEwIdh8GoT",
        "outputId": "62f6335c-ce9b-48e6-aaa7-73678860bee5"
      },
      "source": [
        "most_author = data_train.Book_Author.value_counts().reset_index()\n",
        "most_author.columns = ['Book_Author','count']\n",
        "\n",
        "plt.figure(figsize = (16,8))\n",
        "plt.title(\"10 Penulis Terpopuler\")\n",
        "sns.barplot(x = 'count', y = 'Book_Author', data = most_author.head(10), palette='icefire_r');\n",
        "plt.ylabel('Book_Author')\n",
        "plt.xlabel('Count')\n",
        "plt.show()"
      ],
      "execution_count": 25,
      "outputs": [
        {
          "output_type": "display_data",
          "data": {
            "image/png": "[encoded data removed]",
            "text/plain": [
              "<Figure size 1152x576 with 1 Axes>"
            ]
          },
          "metadata": {
            "needs_background": "light"
          }
        }
      ]
    },
    {
      "cell_type": "markdown",
      "metadata": {
        "id": "IFMmeRAkgKJ5"
      },
      "source": [
        "Kemudian, menampilkan 10 publisher teratas berasal dari kolom 'Publisher' dimana menggunakan *barplot* untuk menampilkan gambar. Bila dilihat dari gambar diatas maka publisher yang berada di peringkat atas yaitu “Ballantine Books” dengan jumlah yang lebih banyak dibandingkan dengan publisher yang lain. Namun bila dilihat kembali pada peringkat sembilan dan sepuluh memiliki jumlah yang sama."
      ]
    },
    {
      "cell_type": "code",
      "metadata": {
        "colab": {
          "base_uri": "https://localhost:8080/",
          "height": 513
        },
        "id": "G4HezZ253XdH",
        "outputId": "56e549eb-5e2f-43bf-9052-5720ba9f47e4"
      },
      "source": [
        "most_publis = data_train.Publisher.value_counts().reset_index()\n",
        "most_publis.columns = ['Publisher','count']\n",
        "\n",
        "plt.figure(figsize = (16,8))\n",
        "plt.title(\"10 Publisher teratas\")\n",
        "sns.barplot(x = 'count', y = 'Publisher', data = most_publis.head(12));\n",
        "plt.ylabel('Publisher')\n",
        "plt.xlabel('Count')\n",
        "plt.show()"
      ],
      "execution_count": 26,
      "outputs": [
        {
          "output_type": "display_data",
          "data": {
            "image/png": "[encoded data removed]",
            "text/plain": [
              "<Figure size 1152x576 with 1 Axes>"
            ]
          },
          "metadata": {
            "needs_background": "light"
          }
        }
      ]
    },
    {
      "cell_type": "markdown",
      "metadata": {
        "id": "zuohx3Svgho1"
      },
      "source": [
        "Menampilkan 'Rata-rata rating dengan buku terbanyak dibaca' dimana berasal dari kolom 'Book_Title' dan 'Book_Rating' yang menggunakan *barplot* untuk menampilkan gambar. Pada gambar dibawah terlihat bahwa buku dengan judul “A Painted House” memiliki rating terbanyak dari pengguna dibandingkan buku yang lainnya."
      ]
    },
    {
      "cell_type": "code",
      "metadata": {
        "colab": {
          "base_uri": "https://localhost:8080/",
          "height": 622
        },
        "id": "Fd1vP-e770SZ",
        "outputId": "182332e4-d836-43c4-ceab-7711cfbaa30e"
      },
      "source": [
        "data_aver = data_train.groupby('Book_Title', as_index=False)['Book_Rating'].mean()\n",
        "temp = data_train.Book_Title.value_counts().reset_index()\n",
        "temp.columns = ['Book_Title','count']\n",
        "most_rated_by_reads = pd.merge(data_aver,temp,on='Book_Title')\n",
        "\n",
        "most_rated_by_reads = most_rated_by_reads.sort_values('count',ascending=False)\n",
        "\n",
        "plt.figure(figsize=(12,10))\n",
        "plt.title(\"Rata-rata rating dengan buku terbanyak dibaca\")\n",
        "sns.barplot(x = 'Book_Rating', y = 'Book_Title', data = most_rated_by_reads.head(10), palette='icefire_r');"
      ],
      "execution_count": 27,
      "outputs": [
        {
          "output_type": "display_data",
          "data": {
            "image/png": "[encoded data removed]",
            "text/plain": [
              "<Figure size 864x720 with 1 Axes>"
            ]
          },
          "metadata": {
            "needs_background": "light"
          }
        }
      ]
    },
    {
      "cell_type": "markdown",
      "metadata": {
        "id": "NlQGd6VQHmQ4"
      },
      "source": [
        "# **Data Preparation**\n",
        "\n",
        "Pada tahap ini menggunakan beberapa teknik dengan penjelasan sebagai berikut:"
      ]
    },
    {
      "cell_type": "markdown",
      "metadata": {
        "id": "9r1Bz0tFjqhy"
      },
      "source": [
        "Mengecek data pada data_books, data_rating dan gabungan dari dua data tersebut yaitu data_train dimana terdapat data null atau tidak yang menggunakan fungsi *isnull*"
      ]
    },
    {
      "cell_type": "code",
      "metadata": {
        "colab": {
          "base_uri": "https://localhost:8080/"
        },
        "id": "f7Rya2771Jen",
        "outputId": "b85a2221-a6a9-4464-ad32-d93b0170db69"
      },
      "source": [
        "data_books.isnull().sum()"
      ],
      "execution_count": 28,
      "outputs": [
        {
          "output_type": "execute_result",
          "data": {
            "text/plain": [
              "ISBN                0\n",
              "Book_Title          0\n",
              "Book_Author         0\n",
              "Year_Publication    0\n",
              "Publisher           0\n",
              "dtype: int64"
            ]
          },
          "metadata": {},
          "execution_count": 28
        }
      ]
    },
    {
      "cell_type": "code",
      "metadata": {
        "colab": {
          "base_uri": "https://localhost:8080/"
        },
        "id": "GWdeBj_GJ6yF",
        "outputId": "db845216-0f7b-457f-e327-ec9aa5495693"
      },
      "source": [
        "data_rating.isnull().sum()"
      ],
      "execution_count": 29,
      "outputs": [
        {
          "output_type": "execute_result",
          "data": {
            "text/plain": [
              "UserID         0\n",
              "ISBN           0\n",
              "Book_Rating    0\n",
              "dtype: int64"
            ]
          },
          "metadata": {},
          "execution_count": 29
        }
      ]
    },
    {
      "cell_type": "code",
      "metadata": {
        "colab": {
          "base_uri": "https://localhost:8080/"
        },
        "id": "P8rupUpqKGuK",
        "outputId": "dd990feb-7717-4f46-fc20-6334f2b255cd"
      },
      "source": [
        "data_train.isnull().sum()"
      ],
      "execution_count": 30,
      "outputs": [
        {
          "output_type": "execute_result",
          "data": {
            "text/plain": [
              "UserID              0\n",
              "ISBN                0\n",
              "Book_Rating         0\n",
              "Book_Title          0\n",
              "Book_Author         0\n",
              "Year_Publication    0\n",
              "Publisher           0\n",
              "dtype: int64"
            ]
          },
          "metadata": {},
          "execution_count": 30
        }
      ]
    },
    {
      "cell_type": "markdown",
      "metadata": {
        "id": "x7P-Bm_6kcmT"
      },
      "source": [
        "Dilakukan persiapan penghapusan data duplikat, dengan membuat variable baru dengan nama ‘data_prep’ yang berisi dataframe ‘data_train’ yang diurutkan berdasarkan ‘ISBN’"
      ]
    },
    {
      "cell_type": "code",
      "metadata": {
        "colab": {
          "base_uri": "https://localhost:8080/",
          "height": 418
        },
        "id": "SlyML_QHKovG",
        "outputId": "fa3b7a71-c651-4cc3-8859-1f70b9da2581"
      },
      "source": [
        "data_prep = data_train\n",
        "data_prep.sort_values('ISBN')"
      ],
      "execution_count": 31,
      "outputs": [
        {
          "output_type": "execute_result",
          "data": {
            "text/html": [
              "<div>\n",
              "<style scoped>\n",
              "    .dataframe tbody tr th:only-of-type {\n",
              "        vertical-align: middle;\n",
              "    }\n",
              "\n",
              "    .dataframe tbody tr th {\n",
              "        vertical-align: top;\n",
              "    }\n",
              "\n",
              "    .dataframe thead th {\n",
              "        text-align: right;\n",
              "    }\n",
              "</style>\n",
              "<table border=\"1\" class=\"dataframe\">\n",
              "  <thead>\n",
              "    <tr style=\"text-align: right;\">\n",
              "      <th></th>\n",
              "      <th>UserID</th>\n",
              "      <th>ISBN</th>\n",
              "      <th>Book_Rating</th>\n",
              "      <th>Book_Title</th>\n",
              "      <th>Book_Author</th>\n",
              "      <th>Year_Publication</th>\n",
              "      <th>Publisher</th>\n",
              "    </tr>\n",
              "  </thead>\n",
              "  <tbody>\n",
              "    <tr>\n",
              "      <th>2126</th>\n",
              "      <td>8</td>\n",
              "      <td>0002005018</td>\n",
              "      <td>5</td>\n",
              "      <td>Clara Callan</td>\n",
              "      <td>Richard Bruce Wright</td>\n",
              "      <td>2001</td>\n",
              "      <td>HarperFlamingo Canada</td>\n",
              "    </tr>\n",
              "    <tr>\n",
              "      <th>2245</th>\n",
              "      <td>190</td>\n",
              "      <td>0002740230</td>\n",
              "      <td>7</td>\n",
              "      <td>Keep It Simple: And Get More Out of Life</td>\n",
              "      <td>Nick Page</td>\n",
              "      <td>1999</td>\n",
              "      <td>Trafalgar Square</td>\n",
              "    </tr>\n",
              "    <tr>\n",
              "      <th>3279</th>\n",
              "      <td>901</td>\n",
              "      <td>0006276199</td>\n",
              "      <td>0</td>\n",
              "      <td>Alien at St Wilfred's</td>\n",
              "      <td>Adrian Plass</td>\n",
              "      <td>1999</td>\n",
              "      <td>Zondervan</td>\n",
              "    </tr>\n",
              "    <tr>\n",
              "      <th>3280</th>\n",
              "      <td>901</td>\n",
              "      <td>000649840X</td>\n",
              "      <td>9</td>\n",
              "      <td>Angelas Ashes</td>\n",
              "      <td>Frank Mccourt</td>\n",
              "      <td>0</td>\n",
              "      <td>Harpercollins Uk</td>\n",
              "    </tr>\n",
              "    <tr>\n",
              "      <th>2878</th>\n",
              "      <td>643</td>\n",
              "      <td>0007100221</td>\n",
              "      <td>7</td>\n",
              "      <td>TERROR FIRMA</td>\n",
              "      <td>Matthew Thomas</td>\n",
              "      <td>2001</td>\n",
              "      <td>Trafalgar Square</td>\n",
              "    </tr>\n",
              "    <tr>\n",
              "      <th>...</th>\n",
              "      <td>...</td>\n",
              "      <td>...</td>\n",
              "      <td>...</td>\n",
              "      <td>...</td>\n",
              "      <td>...</td>\n",
              "      <td>...</td>\n",
              "      <td>...</td>\n",
              "    </tr>\n",
              "    <tr>\n",
              "      <th>908</th>\n",
              "      <td>277509</td>\n",
              "      <td>9724115380</td>\n",
              "      <td>9</td>\n",
              "      <td>A hora de SertÃ³rio (Finisterra)</td>\n",
              "      <td>JoÃ£o Aguiar</td>\n",
              "      <td>1994</td>\n",
              "      <td>EdiÃ§Ãµes ASA</td>\n",
              "    </tr>\n",
              "    <tr>\n",
              "      <th>2228</th>\n",
              "      <td>160</td>\n",
              "      <td>9724119378</td>\n",
              "      <td>0</td>\n",
              "      <td>O Deus Das Pequenas Coisas</td>\n",
              "      <td>Roy</td>\n",
              "      <td>1998</td>\n",
              "      <td>Edicoes Asa</td>\n",
              "    </tr>\n",
              "    <tr>\n",
              "      <th>524</th>\n",
              "      <td>277272</td>\n",
              "      <td>9726101794</td>\n",
              "      <td>4</td>\n",
              "      <td>As mulheres deviam vir com livro de instruÃ§Ãµ...</td>\n",
              "      <td>Manuel Jorge Marmelo</td>\n",
              "      <td>1999</td>\n",
              "      <td>Campo das Letras</td>\n",
              "    </tr>\n",
              "    <tr>\n",
              "      <th>177</th>\n",
              "      <td>276925</td>\n",
              "      <td>9871138016</td>\n",
              "      <td>0</td>\n",
              "      <td>Cronica De Una Muerte Anunciada</td>\n",
              "      <td>Gabriel Marques Garcia</td>\n",
              "      <td>2002</td>\n",
              "      <td>Debols!llo</td>\n",
              "    </tr>\n",
              "    <tr>\n",
              "      <th>3157</th>\n",
              "      <td>805</td>\n",
              "      <td>9997522052</td>\n",
              "      <td>0</td>\n",
              "      <td>Collected Works of Emile Zola</td>\n",
              "      <td>Emile Zola</td>\n",
              "      <td>2001</td>\n",
              "      <td>Chatto &amp;amp; Windus</td>\n",
              "    </tr>\n",
              "  </tbody>\n",
              "</table>\n",
              "<p>3341 rows × 7 columns</p>\n",
              "</div>"
            ],
            "text/plain": [
              "      UserID        ISBN  ...  Year_Publication              Publisher\n",
              "2126       8  0002005018  ...              2001  HarperFlamingo Canada\n",
              "2245     190  0002740230  ...              1999       Trafalgar Square\n",
              "3279     901  0006276199  ...              1999              Zondervan\n",
              "3280     901  000649840X  ...                 0       Harpercollins Uk\n",
              "2878     643  0007100221  ...              2001       Trafalgar Square\n",
              "...      ...         ...  ...               ...                    ...\n",
              "908   277509  9724115380  ...              1994          EdiÃ§Ãµes ASA\n",
              "2228     160  9724119378  ...              1998            Edicoes Asa\n",
              "524   277272  9726101794  ...              1999       Campo das Letras\n",
              "177   276925  9871138016  ...              2002             Debols!llo\n",
              "3157     805  9997522052  ...              2001    Chatto &amp; Windus\n",
              "\n",
              "[3341 rows x 7 columns]"
            ]
          },
          "metadata": {},
          "execution_count": 31
        }
      ]
    },
    {
      "cell_type": "markdown",
      "metadata": {
        "id": "AvYhZe_Pkm84"
      },
      "source": [
        "Setelah dilakukan persiapan dilanjutkan dengan penghapusan data duplikat menggunakan fungsi *drop_duplicates*. Penghapusan data duplikat berguna bila data train dan data test ada yang sama. Bila di lihat dari gambar diatas dan di bawah jumlah rows berkurang ketika dilakukan penghapusan data duplikat"
      ]
    },
    {
      "cell_type": "code",
      "metadata": {
        "colab": {
          "base_uri": "https://localhost:8080/",
          "height": 418
        },
        "id": "P7lMvynnL_Jn",
        "outputId": "fdfaf16e-80d4-4f46-80a9-32befeddfe71"
      },
      "source": [
        "data_prep = data_prep.drop_duplicates('ISBN')\n",
        "data_prep"
      ],
      "execution_count": 32,
      "outputs": [
        {
          "output_type": "execute_result",
          "data": {
            "text/html": [
              "<div>\n",
              "<style scoped>\n",
              "    .dataframe tbody tr th:only-of-type {\n",
              "        vertical-align: middle;\n",
              "    }\n",
              "\n",
              "    .dataframe tbody tr th {\n",
              "        vertical-align: top;\n",
              "    }\n",
              "\n",
              "    .dataframe thead th {\n",
              "        text-align: right;\n",
              "    }\n",
              "</style>\n",
              "<table border=\"1\" class=\"dataframe\">\n",
              "  <thead>\n",
              "    <tr style=\"text-align: right;\">\n",
              "      <th></th>\n",
              "      <th>UserID</th>\n",
              "      <th>ISBN</th>\n",
              "      <th>Book_Rating</th>\n",
              "      <th>Book_Title</th>\n",
              "      <th>Book_Author</th>\n",
              "      <th>Year_Publication</th>\n",
              "      <th>Publisher</th>\n",
              "    </tr>\n",
              "  </thead>\n",
              "  <tbody>\n",
              "    <tr>\n",
              "      <th>0</th>\n",
              "      <td>276725</td>\n",
              "      <td>034545104X</td>\n",
              "      <td>0</td>\n",
              "      <td>Flesh Tones: A Novel</td>\n",
              "      <td>M. J. Rose</td>\n",
              "      <td>2002</td>\n",
              "      <td>Ballantine Books</td>\n",
              "    </tr>\n",
              "    <tr>\n",
              "      <th>1</th>\n",
              "      <td>276727</td>\n",
              "      <td>0446520802</td>\n",
              "      <td>0</td>\n",
              "      <td>The Notebook</td>\n",
              "      <td>Nicholas Sparks</td>\n",
              "      <td>1996</td>\n",
              "      <td>Warner Books</td>\n",
              "    </tr>\n",
              "    <tr>\n",
              "      <th>4</th>\n",
              "      <td>276744</td>\n",
              "      <td>038550120X</td>\n",
              "      <td>7</td>\n",
              "      <td>A Painted House</td>\n",
              "      <td>JOHN GRISHAM</td>\n",
              "      <td>2001</td>\n",
              "      <td>Doubleday</td>\n",
              "    </tr>\n",
              "    <tr>\n",
              "      <th>6</th>\n",
              "      <td>276746</td>\n",
              "      <td>0425115801</td>\n",
              "      <td>0</td>\n",
              "      <td>Lightning</td>\n",
              "      <td>Dean R. Koontz</td>\n",
              "      <td>1996</td>\n",
              "      <td>Berkley Publishing Group</td>\n",
              "    </tr>\n",
              "    <tr>\n",
              "      <th>8</th>\n",
              "      <td>276746</td>\n",
              "      <td>0449006522</td>\n",
              "      <td>0</td>\n",
              "      <td>Manhattan Hunt Club</td>\n",
              "      <td>JOHN SAUL</td>\n",
              "      <td>2002</td>\n",
              "      <td>Ballantine Books</td>\n",
              "    </tr>\n",
              "    <tr>\n",
              "      <th>...</th>\n",
              "      <td>...</td>\n",
              "      <td>...</td>\n",
              "      <td>...</td>\n",
              "      <td>...</td>\n",
              "      <td>...</td>\n",
              "      <td>...</td>\n",
              "      <td>...</td>\n",
              "    </tr>\n",
              "    <tr>\n",
              "      <th>3336</th>\n",
              "      <td>929</td>\n",
              "      <td>0553801031</td>\n",
              "      <td>9</td>\n",
              "      <td>The New Rabbi : A Congregation Searches for It...</td>\n",
              "      <td>STEPHEN FRIED</td>\n",
              "      <td>2002</td>\n",
              "      <td>Bantam</td>\n",
              "    </tr>\n",
              "    <tr>\n",
              "      <th>3337</th>\n",
              "      <td>929</td>\n",
              "      <td>0590457225</td>\n",
              "      <td>0</td>\n",
              "      <td>Dealing With Dragons (Enchanted Forest Chronic...</td>\n",
              "      <td>Patricia C. Wrede</td>\n",
              "      <td>1992</td>\n",
              "      <td>Scholastic</td>\n",
              "    </tr>\n",
              "    <tr>\n",
              "      <th>3338</th>\n",
              "      <td>929</td>\n",
              "      <td>067163884X</td>\n",
              "      <td>7</td>\n",
              "      <td>THIS HALLOWED GRND</td>\n",
              "      <td>Bruce Catton</td>\n",
              "      <td>1986</td>\n",
              "      <td>Pocket</td>\n",
              "    </tr>\n",
              "    <tr>\n",
              "      <th>3339</th>\n",
              "      <td>929</td>\n",
              "      <td>067168390X</td>\n",
              "      <td>0</td>\n",
              "      <td>Lonesome Dove</td>\n",
              "      <td>Larry McMurtry</td>\n",
              "      <td>1988</td>\n",
              "      <td>Pocket</td>\n",
              "    </tr>\n",
              "    <tr>\n",
              "      <th>3340</th>\n",
              "      <td>929</td>\n",
              "      <td>0679741011</td>\n",
              "      <td>5</td>\n",
              "      <td>Sex, Art, and American Culture: Essays</td>\n",
              "      <td>Camille Paglia</td>\n",
              "      <td>1992</td>\n",
              "      <td>Vintage Books USA</td>\n",
              "    </tr>\n",
              "  </tbody>\n",
              "</table>\n",
              "<p>2519 rows × 7 columns</p>\n",
              "</div>"
            ],
            "text/plain": [
              "      UserID        ISBN  ...  Year_Publication                 Publisher\n",
              "0     276725  034545104X  ...              2002          Ballantine Books\n",
              "1     276727  0446520802  ...              1996              Warner Books\n",
              "4     276744  038550120X  ...              2001                 Doubleday\n",
              "6     276746  0425115801  ...              1996  Berkley Publishing Group\n",
              "8     276746  0449006522  ...              2002          Ballantine Books\n",
              "...      ...         ...  ...               ...                       ...\n",
              "3336     929  0553801031  ...              2002                    Bantam\n",
              "3337     929  0590457225  ...              1992                Scholastic\n",
              "3338     929  067163884X  ...              1986                    Pocket\n",
              "3339     929  067168390X  ...              1988                    Pocket\n",
              "3340     929  0679741011  ...              1992         Vintage Books USA\n",
              "\n",
              "[2519 rows x 7 columns]"
            ]
          },
          "metadata": {},
          "execution_count": 32
        }
      ]
    },
    {
      "cell_type": "markdown",
      "metadata": {
        "id": "yvyp7nXyk0oq"
      },
      "source": [
        "Pada gambar diatas dilakukan proses pengkonversian data series dalam bentuk list. Pada proses menggunakan fungsi ‘tolist()’ dari library numpy. Yang kemudian menampilkan jumlah dari books_id, books_title dan books_author."
      ]
    },
    {
      "cell_type": "code",
      "metadata": {
        "colab": {
          "base_uri": "https://localhost:8080/"
        },
        "id": "w7oy-njtNfFU",
        "outputId": "1abf3130-9403-439a-ef32-85032b60209d"
      },
      "source": [
        "# Mengonversi data series 'ISBN’ menjadi dalam bentuk list\n",
        "books_id = data_prep['ISBN'].tolist()\n",
        " \n",
        "# Mengonversi data series ‘Title’ menjadi dalam bentuk list\n",
        "books_title = data_prep['Book_Title'].tolist()\n",
        " \n",
        "# Mengonversi data series ‘Author’ menjadi dalam bentuk list\n",
        "books_author = data_prep['Book_Author'].tolist()\n",
        " \n",
        "print(len(books_id))\n",
        "print(len(books_title))\n",
        "print(len(books_author))"
      ],
      "execution_count": 33,
      "outputs": [
        {
          "output_type": "stream",
          "name": "stdout",
          "text": [
            "2519\n",
            "2519\n",
            "2519\n"
          ]
        }
      ]
    },
    {
      "cell_type": "markdown",
      "metadata": {
        "id": "Ny4RzU45lHKe"
      },
      "source": [
        "Tahap berikutnya, membuat dictionary yang gunanya untuk menentukan pasangan key-value dari data books_id, books_title dan books_author"
      ]
    },
    {
      "cell_type": "code",
      "metadata": {
        "colab": {
          "base_uri": "https://localhost:8080/",
          "height": 418
        },
        "id": "RBMcUWYmbZUP",
        "outputId": "43a06e26-24c1-4d0f-f700-b1a72a93ac0e"
      },
      "source": [
        "# Membuat dictionary untuk data ‘books_id’, ‘books_title’, dan ‘books_author’\n",
        "books_new = pd.DataFrame({\n",
        "    'id': books_id,\n",
        "    'title':books_title,\n",
        "    'author': books_author\n",
        "})\n",
        "books_new"
      ],
      "execution_count": 34,
      "outputs": [
        {
          "output_type": "execute_result",
          "data": {
            "text/html": [
              "<div>\n",
              "<style scoped>\n",
              "    .dataframe tbody tr th:only-of-type {\n",
              "        vertical-align: middle;\n",
              "    }\n",
              "\n",
              "    .dataframe tbody tr th {\n",
              "        vertical-align: top;\n",
              "    }\n",
              "\n",
              "    .dataframe thead th {\n",
              "        text-align: right;\n",
              "    }\n",
              "</style>\n",
              "<table border=\"1\" class=\"dataframe\">\n",
              "  <thead>\n",
              "    <tr style=\"text-align: right;\">\n",
              "      <th></th>\n",
              "      <th>id</th>\n",
              "      <th>title</th>\n",
              "      <th>author</th>\n",
              "    </tr>\n",
              "  </thead>\n",
              "  <tbody>\n",
              "    <tr>\n",
              "      <th>0</th>\n",
              "      <td>034545104X</td>\n",
              "      <td>Flesh Tones: A Novel</td>\n",
              "      <td>M. J. Rose</td>\n",
              "    </tr>\n",
              "    <tr>\n",
              "      <th>1</th>\n",
              "      <td>0446520802</td>\n",
              "      <td>The Notebook</td>\n",
              "      <td>Nicholas Sparks</td>\n",
              "    </tr>\n",
              "    <tr>\n",
              "      <th>2</th>\n",
              "      <td>038550120X</td>\n",
              "      <td>A Painted House</td>\n",
              "      <td>JOHN GRISHAM</td>\n",
              "    </tr>\n",
              "    <tr>\n",
              "      <th>3</th>\n",
              "      <td>0425115801</td>\n",
              "      <td>Lightning</td>\n",
              "      <td>Dean R. Koontz</td>\n",
              "    </tr>\n",
              "    <tr>\n",
              "      <th>4</th>\n",
              "      <td>0449006522</td>\n",
              "      <td>Manhattan Hunt Club</td>\n",
              "      <td>JOHN SAUL</td>\n",
              "    </tr>\n",
              "    <tr>\n",
              "      <th>...</th>\n",
              "      <td>...</td>\n",
              "      <td>...</td>\n",
              "      <td>...</td>\n",
              "    </tr>\n",
              "    <tr>\n",
              "      <th>2514</th>\n",
              "      <td>0553801031</td>\n",
              "      <td>The New Rabbi : A Congregation Searches for It...</td>\n",
              "      <td>STEPHEN FRIED</td>\n",
              "    </tr>\n",
              "    <tr>\n",
              "      <th>2515</th>\n",
              "      <td>0590457225</td>\n",
              "      <td>Dealing With Dragons (Enchanted Forest Chronic...</td>\n",
              "      <td>Patricia C. Wrede</td>\n",
              "    </tr>\n",
              "    <tr>\n",
              "      <th>2516</th>\n",
              "      <td>067163884X</td>\n",
              "      <td>THIS HALLOWED GRND</td>\n",
              "      <td>Bruce Catton</td>\n",
              "    </tr>\n",
              "    <tr>\n",
              "      <th>2517</th>\n",
              "      <td>067168390X</td>\n",
              "      <td>Lonesome Dove</td>\n",
              "      <td>Larry McMurtry</td>\n",
              "    </tr>\n",
              "    <tr>\n",
              "      <th>2518</th>\n",
              "      <td>0679741011</td>\n",
              "      <td>Sex, Art, and American Culture: Essays</td>\n",
              "      <td>Camille Paglia</td>\n",
              "    </tr>\n",
              "  </tbody>\n",
              "</table>\n",
              "<p>2519 rows × 3 columns</p>\n",
              "</div>"
            ],
            "text/plain": [
              "              id  ...             author\n",
              "0     034545104X  ...         M. J. Rose\n",
              "1     0446520802  ...    Nicholas Sparks\n",
              "2     038550120X  ...       JOHN GRISHAM\n",
              "3     0425115801  ...     Dean R. Koontz\n",
              "4     0449006522  ...          JOHN SAUL\n",
              "...          ...  ...                ...\n",
              "2514  0553801031  ...      STEPHEN FRIED\n",
              "2515  0590457225  ...  Patricia C. Wrede\n",
              "2516  067163884X  ...       Bruce Catton\n",
              "2517  067168390X  ...     Larry McMurtry\n",
              "2518  0679741011  ...     Camille Paglia\n",
              "\n",
              "[2519 rows x 3 columns]"
            ]
          },
          "metadata": {},
          "execution_count": 34
        }
      ]
    },
    {
      "cell_type": "markdown",
      "metadata": {
        "id": "KNU99CVxl1Be"
      },
      "source": [
        "Kemudian, untuk memudahkan mengingat nama rating sehingga untuk variable 'data_rating' diubah menjadi 'df' sehingga ketika membaca dataset untuk rating menggunakan variable 'df'"
      ]
    },
    {
      "cell_type": "code",
      "metadata": {
        "colab": {
          "base_uri": "https://localhost:8080/",
          "height": 418
        },
        "id": "SSWJ4iL7TNVE",
        "outputId": "bab8ecb0-7a41-4745-9cc8-ccf323127209"
      },
      "source": [
        "df = data_rating\n",
        "df"
      ],
      "execution_count": 35,
      "outputs": [
        {
          "output_type": "execute_result",
          "data": {
            "text/html": [
              "<div>\n",
              "<style scoped>\n",
              "    .dataframe tbody tr th:only-of-type {\n",
              "        vertical-align: middle;\n",
              "    }\n",
              "\n",
              "    .dataframe tbody tr th {\n",
              "        vertical-align: top;\n",
              "    }\n",
              "\n",
              "    .dataframe thead th {\n",
              "        text-align: right;\n",
              "    }\n",
              "</style>\n",
              "<table border=\"1\" class=\"dataframe\">\n",
              "  <thead>\n",
              "    <tr style=\"text-align: right;\">\n",
              "      <th></th>\n",
              "      <th>UserID</th>\n",
              "      <th>ISBN</th>\n",
              "      <th>Book_Rating</th>\n",
              "    </tr>\n",
              "  </thead>\n",
              "  <tbody>\n",
              "    <tr>\n",
              "      <th>0</th>\n",
              "      <td>276725</td>\n",
              "      <td>034545104X</td>\n",
              "      <td>0</td>\n",
              "    </tr>\n",
              "    <tr>\n",
              "      <th>1</th>\n",
              "      <td>276726</td>\n",
              "      <td>0155061224</td>\n",
              "      <td>5</td>\n",
              "    </tr>\n",
              "    <tr>\n",
              "      <th>2</th>\n",
              "      <td>276727</td>\n",
              "      <td>0446520802</td>\n",
              "      <td>0</td>\n",
              "    </tr>\n",
              "    <tr>\n",
              "      <th>3</th>\n",
              "      <td>276729</td>\n",
              "      <td>052165615X</td>\n",
              "      <td>3</td>\n",
              "    </tr>\n",
              "    <tr>\n",
              "      <th>4</th>\n",
              "      <td>276729</td>\n",
              "      <td>0521795028</td>\n",
              "      <td>6</td>\n",
              "    </tr>\n",
              "    <tr>\n",
              "      <th>...</th>\n",
              "      <td>...</td>\n",
              "      <td>...</td>\n",
              "      <td>...</td>\n",
              "    </tr>\n",
              "    <tr>\n",
              "      <th>11995</th>\n",
              "      <td>929</td>\n",
              "      <td>067163884X</td>\n",
              "      <td>7</td>\n",
              "    </tr>\n",
              "    <tr>\n",
              "      <th>11996</th>\n",
              "      <td>929</td>\n",
              "      <td>0671667815</td>\n",
              "      <td>0</td>\n",
              "    </tr>\n",
              "    <tr>\n",
              "      <th>11997</th>\n",
              "      <td>929</td>\n",
              "      <td>067168390X</td>\n",
              "      <td>0</td>\n",
              "    </tr>\n",
              "    <tr>\n",
              "      <th>11998</th>\n",
              "      <td>929</td>\n",
              "      <td>0671868691</td>\n",
              "      <td>0</td>\n",
              "    </tr>\n",
              "    <tr>\n",
              "      <th>11999</th>\n",
              "      <td>929</td>\n",
              "      <td>0679741011</td>\n",
              "      <td>5</td>\n",
              "    </tr>\n",
              "  </tbody>\n",
              "</table>\n",
              "<p>12000 rows × 3 columns</p>\n",
              "</div>"
            ],
            "text/plain": [
              "       UserID        ISBN  Book_Rating\n",
              "0      276725  034545104X            0\n",
              "1      276726  0155061224            5\n",
              "2      276727  0446520802            0\n",
              "3      276729  052165615X            3\n",
              "4      276729  0521795028            6\n",
              "...       ...         ...          ...\n",
              "11995     929  067163884X            7\n",
              "11996     929  0671667815            0\n",
              "11997     929  067168390X            0\n",
              "11998     929  0671868691            0\n",
              "11999     929  0679741011            5\n",
              "\n",
              "[12000 rows x 3 columns]"
            ]
          },
          "metadata": {},
          "execution_count": 35
        }
      ]
    },
    {
      "cell_type": "markdown",
      "metadata": {
        "id": "EauSJNDcmoSV"
      },
      "source": [
        "Setelah melakukan proses diatas maka masuk ke proses encoding data. Dimana pada proses ini digunakan untuk menyandikan (encode) fitur ke dalam indeks integer dimana fitur yang digunakan yaitu fitur ‘UserID’ dan ‘ISBN’.\n"
      ]
    },
    {
      "cell_type": "code",
      "metadata": {
        "colab": {
          "base_uri": "https://localhost:8080/"
        },
        "id": "YyIPFQJsVXF3",
        "outputId": "68ad19cf-e669-44f8-a639-59d925b58733"
      },
      "source": [
        "# Mengubah UserID menjadi list tanpa nilai yang sama\n",
        "user_ids = df['UserID'].unique().tolist()\n",
        "print('list UserID: ', user_ids)\n",
        " \n",
        "# Melakukan encoding userID\n",
        "user_to_user_encoded = {x: i for i, x in enumerate(user_ids)}\n",
        "print('encoded UserID : ', user_to_user_encoded)\n",
        " \n",
        "# Melakukan proses encoding angka ke UserID\n",
        "user_encoded_to_user = {i: x for i, x in enumerate(user_ids)}\n",
        "print('encoded angka ke UserID: ', user_encoded_to_user)"
      ],
      "execution_count": 36,
      "outputs": [
        {
          "output_type": "stream",
          "name": "stdout",
          "text": [
            "list UserID:  [276725, 276726, 276727, 276729, 276733, 276736, 276737, 276744, 276745, 276746, 276747, 276748, 276751, 276754, 276755, 276760, 276762, 276765, 276768, 276772, 276774, 276780, 276786, 276788, 276796, 276798, 276800, 276803, 276804, 276806, 276808, 276811, 276812, 276813, 276814, 276817, 276820, 276822, 276827, 276828, 276830, 276832, 276833, 276835, 276837, 276838, 276840, 276842, 276847, 276848, 276850, 276852, 276853, 276854, 276856, 276857, 276859, 276861, 276862, 276863, 276866, 276869, 276870, 276872, 276873, 276875, 276878, 276879, 276884, 276887, 276888, 276889, 276890, 276896, 276904, 276905, 276911, 276912, 276915, 276916, 276925, 276927, 276928, 276929, 276934, 276936, 276939, 276943, 276946, 276949, 276950, 276953, 276954, 276957, 276959, 276963, 276964, 276965, 276975, 276981, 276984, 276986, 276988, 276989, 276990, 276992, 276994, 276997, 276998, 277002, 277007, 277009, 277010, 277012, 277018, 277019, 277022, 277023, 277028, 277031, 277032, 277035, 277036, 277040, 277042, 277048, 277051, 277052, 277053, 277056, 277058, 277064, 277065, 277072, 277073, 277074, 277075, 277079, 277085, 277087, 277090, 277094, 277096, 277102, 277107, 277109, 277114, 277116, 277123, 277124, 277128, 277129, 277134, 277135, 277139, 277142, 277143, 277149, 277155, 277157, 277159, 277165, 277168, 277170, 277171, 277176, 277179, 277180, 277183, 277186, 277187, 277188, 277189, 277195, 277196, 277197, 277203, 277205, 277209, 277212, 277220, 277221, 277228, 277229, 277230, 277231, 277232, 277235, 277237, 277240, 277242, 277243, 277244, 277245, 277246, 277249, 277253, 277256, 277257, 277261, 277262, 277265, 277267, 277268, 277269, 277271, 277272, 277274, 277281, 277284, 277285, 277288, 277291, 277292, 277293, 277305, 277314, 277315, 277317, 277330, 277334, 277338, 277339, 277340, 277341, 277343, 277348, 277351, 277353, 277358, 277359, 277363, 277364, 277367, 277369, 277371, 277374, 277375, 277378, 277379, 277380, 277384, 277388, 277389, 277392, 277397, 277399, 277400, 277402, 277405, 277408, 277411, 277413, 277424, 277425, 277427, 277432, 277433, 277434, 277435, 277436, 277439, 277444, 277453, 277457, 277461, 277462, 277466, 277469, 277470, 277471, 277473, 277474, 277478, 277479, 277486, 277488, 277489, 277502, 277506, 277508, 277509, 277513, 277514, 277516, 277517, 277518, 277519, 277523, 277525, 277526, 277527, 277528, 277529, 277530, 277532, 277533, 277535, 277538, 277544, 277547, 277548, 277554, 277556, 277559, 277560, 277562, 277563, 277565, 277568, 277569, 277574, 277575, 277579, 277585, 277586, 277588, 277589, 277590, 277594, 277595, 277596, 277598, 277601, 277605, 277610, 277619, 277622, 277623, 277627, 277629, 277632, 277633, 277636, 277638, 277639, 277641, 277643, 277646, 277647, 277648, 277650, 277651, 277657, 277660, 277662, 277665, 277667, 277680, 277681, 277682, 277687, 277688, 277689, 277691, 277696, 277697, 277698, 277700, 277701, 277705, 277706, 277710, 277711, 277712, 277714, 277716, 277720, 277722, 277727, 277728, 277737, 277740, 277741, 277743, 277744, 277746, 277748, 277752, 277753, 277756, 277759, 277761, 277764, 277765, 277767, 277768, 277769, 277774, 277775, 277776, 277777, 277778, 277779, 277781, 277782, 277783, 277784, 277786, 277787, 277788, 277790, 277791, 277793, 277794, 277795, 277797, 277798, 277799, 277800, 277801, 277802, 277803, 277807, 277808, 277809, 277811, 277812, 277813, 277814, 277816, 277817, 277818, 277819, 277820, 277823, 277824, 277825, 277826, 277827, 277828, 277830, 277831, 277832, 277833, 277834, 277835, 277837, 277838, 277840, 277841, 277842, 277843, 277844, 277845, 277847, 277853, 277856, 277862, 277864, 277867, 277872, 277873, 277877, 277879, 277882, 277884, 277888, 277891, 277892, 277894, 277895, 277898, 277901, 277903, 277904, 277908, 277909, 277911, 277913, 277915, 277918, 277919, 277921, 277922, 277923, 277928, 277929, 277930, 277932, 277934, 277937, 277938, 277941, 277945, 277946, 277947, 277953, 277954, 277958, 277959, 277962, 277964, 277965, 277969, 277975, 277978, 277982, 277984, 277987, 277988, 277989, 277992, 277993, 277996, 277997, 277998, 278002, 278004, 278007, 278008, 278009, 278012, 278013, 278014, 278017, 278019, 278020, 278021, 278022, 278023, 278024, 278026, 278030, 278034, 278036, 278043, 278044, 278048, 278054, 278056, 278057, 278058, 278063, 278064, 278065, 278066, 278069, 278070, 278074, 278075, 278079, 278085, 278089, 278092, 278094, 278095, 278096, 278097, 278098, 278100, 278104, 278106, 278107, 278110, 278111, 278112, 278117, 278119, 278120, 278122, 278126, 278130, 278131, 278137, 278139, 278140, 278144, 278148, 278149, 278153, 278155, 278156, 278158, 278159, 278160, 278161, 278162, 278167, 278168, 278172, 278176, 278177, 278181, 278183, 278184, 278185, 278188, 278193, 278194, 278197, 278199, 278200, 278202, 278203, 278204, 278206, 278207, 278209, 278212, 278213, 278215, 278216, 278218, 278220, 278221, 278224, 278227, 278229, 278235, 278237, 278238, 278242, 278243, 278244, 278245, 278246, 278248, 278249, 278250, 278251, 278253, 278254, 278255, 278257, 278259, 278260, 278263, 278264, 278270, 278274, 278279, 278280, 278297, 278300, 278302, 278307, 278310, 278311, 278313, 278314, 278316, 278319, 278325, 278328, 278330, 278332, 278333, 278334, 278336, 278342, 278345, 278346, 278350, 278355, 278356, 278357, 278358, 278361, 278364, 278365, 278368, 278373, 278376, 278377, 278378, 278388, 278389, 278390, 278394, 278396, 278398, 278400, 278401, 278407, 278409, 278411, 278413, 278418, 278419, 278422, 278423, 278425, 278430, 278431, 278432, 278435, 278439, 278444, 278446, 278449, 278450, 278452, 278458, 278459, 278461, 278462, 278465, 278466, 278469, 278474, 278475, 278479, 278483, 278487, 278488, 278490, 278491, 278492, 278500, 278501, 278503, 278506, 278510, 278512, 278514, 278515, 278520, 278522, 278524, 278525, 278528, 278529, 278531, 278533, 278534, 278535, 278536, 278537, 278538, 278539, 278540, 278541, 278542, 278543, 278545, 278550, 278551, 278552, 278554, 278556, 278559, 278561, 278563, 278565, 278568, 278569, 278571, 278573, 278582, 278586, 278588, 278597, 278601, 278606, 278608, 278610, 278615, 278618, 278620, 278621, 278629, 278633, 278634, 278636, 278637, 278641, 278644, 278645, 278648, 278650, 278652, 278653, 278659, 278663, 278665, 278668, 278669, 278670, 278671, 278672, 278675, 278681, 278683, 278688, 278691, 278692, 278694, 278698, 278710, 278713, 278714, 278715, 278720, 278721, 278723, 278724, 278729, 278731, 278732, 278740, 278747, 278750, 278752, 278755, 278759, 278760, 278764, 278766, 278767, 278769, 278771, 278772, 278773, 278774, 278777, 278778, 278781, 278782, 278784, 278786, 278788, 278789, 278795, 278796, 278798, 278799, 278800, 278806, 278807, 278813, 278815, 278818, 278819, 278820, 278823, 278824, 278825, 278828, 278831, 278832, 278836, 278838, 278843, 278844, 278846, 278849, 278851, 278852, 278854, 2, 7, 8, 9, 10, 12, 14, 16, 17, 19, 20, 22, 23, 26, 32, 36, 38, 39, 42, 44, 51, 53, 56, 64, 67, 68, 69, 70, 73, 75, 77, 78, 79, 81, 82, 83, 85, 86, 87, 88, 91, 92, 95, 97, 99, 100, 102, 107, 109, 110, 114, 125, 129, 132, 133, 135, 137, 139, 141, 144, 151, 160, 162, 165, 169, 176, 178, 182, 183, 185, 190, 193, 199, 202, 204, 207, 212, 215, 217, 221, 224, 226, 228, 230, 232, 233, 236, 237, 241, 242, 243, 244, 247, 249, 250, 254, 256, 257, 269, 272, 273, 278, 280, 289, 291, 300, 302, 306, 310, 311, 313, 316, 323, 326, 327, 332, 334, 337, 338, 339, 343, 345, 356, 357, 359, 361, 362, 364, 367, 369, 372, 376, 382, 383, 384, 387, 388, 392, 393, 400, 406, 408, 413, 422, 424, 430, 431, 432, 433, 435, 438, 439, 440, 441, 444, 446, 447, 453, 460, 463, 469, 472, 475, 476, 479, 483, 486, 487, 489, 493, 494, 496, 499, 500, 501, 503, 505, 507, 508, 512, 513, 516, 518, 523, 530, 537, 538, 542, 546, 547, 552, 558, 559, 564, 565, 566, 567, 569, 585, 592, 595, 596, 602, 614, 618, 619, 620, 621, 623, 625, 626, 628, 634, 638, 639, 640, 641, 643, 645, 649, 650, 651, 657, 660, 677, 678, 683, 685, 695, 698, 701, 705, 707, 708, 709, 711, 712, 713, 714, 717, 720, 724, 726, 728, 730, 735, 736, 737, 739, 741, 743, 744, 746, 753, 756, 757, 758, 759, 763, 765, 767, 769, 771, 774, 776, 777, 778, 780, 782, 785, 786, 790, 791, 795, 799, 805, 809, 811, 818, 819, 822, 824, 827, 828, 834, 835, 843, 848, 849, 850, 853, 861, 876, 878, 882, 883, 885, 886, 887, 895, 896, 899, 900, 901, 902, 903, 913, 914, 915, 916, 919, 921, 924, 929]\n",
            "encoded UserID :  {276725: 0, 276726: 1, 276727: 2, 276729: 3, 276733: 4, 276736: 5, 276737: 6, 276744: 7, 276745: 8, 276746: 9, 276747: 10, 276748: 11, 276751: 12, 276754: 13, 276755: 14, 276760: 15, 276762: 16, 276765: 17, 276768: 18, 276772: 19, 276774: 20, 276780: 21, 276786: 22, 276788: 23, 276796: 24, 276798: 25, 276800: 26, 276803: 27, 276804: 28, 276806: 29, 276808: 30, 276811: 31, 276812: 32, 276813: 33, 276814: 34, 276817: 35, 276820: 36, 276822: 37, 276827: 38, 276828: 39, 276830: 40, 276832: 41, 276833: 42, 276835: 43, 276837: 44, 276838: 45, 276840: 46, 276842: 47, 276847: 48, 276848: 49, 276850: 50, 276852: 51, 276853: 52, 276854: 53, 276856: 54, 276857: 55, 276859: 56, 276861: 57, 276862: 58, 276863: 59, 276866: 60, 276869: 61, 276870: 62, 276872: 63, 276873: 64, 276875: 65, 276878: 66, 276879: 67, 276884: 68, 276887: 69, 276888: 70, 276889: 71, 276890: 72, 276896: 73, 276904: 74, 276905: 75, 276911: 76, 276912: 77, 276915: 78, 276916: 79, 276925: 80, 276927: 81, 276928: 82, 276929: 83, 276934: 84, 276936: 85, 276939: 86, 276943: 87, 276946: 88, 276949: 89, 276950: 90, 276953: 91, 276954: 92, 276957: 93, 276959: 94, 276963: 95, 276964: 96, 276965: 97, 276975: 98, 276981: 99, 276984: 100, 276986: 101, 276988: 102, 276989: 103, 276990: 104, 276992: 105, 276994: 106, 276997: 107, 276998: 108, 277002: 109, 277007: 110, 277009: 111, 277010: 112, 277012: 113, 277018: 114, 277019: 115, 277022: 116, 277023: 117, 277028: 118, 277031: 119, 277032: 120, 277035: 121, 277036: 122, 277040: 123, 277042: 124, 277048: 125, 277051: 126, 277052: 127, 277053: 128, 277056: 129, 277058: 130, 277064: 131, 277065: 132, 277072: 133, 277073: 134, 277074: 135, 277075: 136, 277079: 137, 277085: 138, 277087: 139, 277090: 140, 277094: 141, 277096: 142, 277102: 143, 277107: 144, 277109: 145, 277114: 146, 277116: 147, 277123: 148, 277124: 149, 277128: 150, 277129: 151, 277134: 152, 277135: 153, 277139: 154, 277142: 155, 277143: 156, 277149: 157, 277155: 158, 277157: 159, 277159: 160, 277165: 161, 277168: 162, 277170: 163, 277171: 164, 277176: 165, 277179: 166, 277180: 167, 277183: 168, 277186: 169, 277187: 170, 277188: 171, 277189: 172, 277195: 173, 277196: 174, 277197: 175, 277203: 176, 277205: 177, 277209: 178, 277212: 179, 277220: 180, 277221: 181, 277228: 182, 277229: 183, 277230: 184, 277231: 185, 277232: 186, 277235: 187, 277237: 188, 277240: 189, 277242: 190, 277243: 191, 277244: 192, 277245: 193, 277246: 194, 277249: 195, 277253: 196, 277256: 197, 277257: 198, 277261: 199, 277262: 200, 277265: 201, 277267: 202, 277268: 203, 277269: 204, 277271: 205, 277272: 206, 277274: 207, 277281: 208, 277284: 209, 277285: 210, 277288: 211, 277291: 212, 277292: 213, 277293: 214, 277305: 215, 277314: 216, 277315: 217, 277317: 218, 277330: 219, 277334: 220, 277338: 221, 277339: 222, 277340: 223, 277341: 224, 277343: 225, 277348: 226, 277351: 227, 277353: 228, 277358: 229, 277359: 230, 277363: 231, 277364: 232, 277367: 233, 277369: 234, 277371: 235, 277374: 236, 277375: 237, 277378: 238, 277379: 239, 277380: 240, 277384: 241, 277388: 242, 277389: 243, 277392: 244, 277397: 245, 277399: 246, 277400: 247, 277402: 248, 277405: 249, 277408: 250, 277411: 251, 277413: 252, 277424: 253, 277425: 254, 277427: 255, 277432: 256, 277433: 257, 277434: 258, 277435: 259, 277436: 260, 277439: 261, 277444: 262, 277453: 263, 277457: 264, 277461: 265, 277462: 266, 277466: 267, 277469: 268, 277470: 269, 277471: 270, 277473: 271, 277474: 272, 277478: 273, 277479: 274, 277486: 275, 277488: 276, 277489: 277, 277502: 278, 277506: 279, 277508: 280, 277509: 281, 277513: 282, 277514: 283, 277516: 284, 277517: 285, 277518: 286, 277519: 287, 277523: 288, 277525: 289, 277526: 290, 277527: 291, 277528: 292, 277529: 293, 277530: 294, 277532: 295, 277533: 296, 277535: 297, 277538: 298, 277544: 299, 277547: 300, 277548: 301, 277554: 302, 277556: 303, 277559: 304, 277560: 305, 277562: 306, 277563: 307, 277565: 308, 277568: 309, 277569: 310, 277574: 311, 277575: 312, 277579: 313, 277585: 314, 277586: 315, 277588: 316, 277589: 317, 277590: 318, 277594: 319, 277595: 320, 277596: 321, 277598: 322, 277601: 323, 277605: 324, 277610: 325, 277619: 326, 277622: 327, 277623: 328, 277627: 329, 277629: 330, 277632: 331, 277633: 332, 277636: 333, 277638: 334, 277639: 335, 277641: 336, 277643: 337, 277646: 338, 277647: 339, 277648: 340, 277650: 341, 277651: 342, 277657: 343, 277660: 344, 277662: 345, 277665: 346, 277667: 347, 277680: 348, 277681: 349, 277682: 350, 277687: 351, 277688: 352, 277689: 353, 277691: 354, 277696: 355, 277697: 356, 277698: 357, 277700: 358, 277701: 359, 277705: 360, 277706: 361, 277710: 362, 277711: 363, 277712: 364, 277714: 365, 277716: 366, 277720: 367, 277722: 368, 277727: 369, 277728: 370, 277737: 371, 277740: 372, 277741: 373, 277743: 374, 277744: 375, 277746: 376, 277748: 377, 277752: 378, 277753: 379, 277756: 380, 277759: 381, 277761: 382, 277764: 383, 277765: 384, 277767: 385, 277768: 386, 277769: 387, 277774: 388, 277775: 389, 277776: 390, 277777: 391, 277778: 392, 277779: 393, 277781: 394, 277782: 395, 277783: 396, 277784: 397, 277786: 398, 277787: 399, 277788: 400, 277790: 401, 277791: 402, 277793: 403, 277794: 404, 277795: 405, 277797: 406, 277798: 407, 277799: 408, 277800: 409, 277801: 410, 277802: 411, 277803: 412, 277807: 413, 277808: 414, 277809: 415, 277811: 416, 277812: 417, 277813: 418, 277814: 419, 277816: 420, 277817: 421, 277818: 422, 277819: 423, 277820: 424, 277823: 425, 277824: 426, 277825: 427, 277826: 428, 277827: 429, 277828: 430, 277830: 431, 277831: 432, 277832: 433, 277833: 434, 277834: 435, 277835: 436, 277837: 437, 277838: 438, 277840: 439, 277841: 440, 277842: 441, 277843: 442, 277844: 443, 277845: 444, 277847: 445, 277853: 446, 277856: 447, 277862: 448, 277864: 449, 277867: 450, 277872: 451, 277873: 452, 277877: 453, 277879: 454, 277882: 455, 277884: 456, 277888: 457, 277891: 458, 277892: 459, 277894: 460, 277895: 461, 277898: 462, 277901: 463, 277903: 464, 277904: 465, 277908: 466, 277909: 467, 277911: 468, 277913: 469, 277915: 470, 277918: 471, 277919: 472, 277921: 473, 277922: 474, 277923: 475, 277928: 476, 277929: 477, 277930: 478, 277932: 479, 277934: 480, 277937: 481, 277938: 482, 277941: 483, 277945: 484, 277946: 485, 277947: 486, 277953: 487, 277954: 488, 277958: 489, 277959: 490, 277962: 491, 277964: 492, 277965: 493, 277969: 494, 277975: 495, 277978: 496, 277982: 497, 277984: 498, 277987: 499, 277988: 500, 277989: 501, 277992: 502, 277993: 503, 277996: 504, 277997: 505, 277998: 506, 278002: 507, 278004: 508, 278007: 509, 278008: 510, 278009: 511, 278012: 512, 278013: 513, 278014: 514, 278017: 515, 278019: 516, 278020: 517, 278021: 518, 278022: 519, 278023: 520, 278024: 521, 278026: 522, 278030: 523, 278034: 524, 278036: 525, 278043: 526, 278044: 527, 278048: 528, 278054: 529, 278056: 530, 278057: 531, 278058: 532, 278063: 533, 278064: 534, 278065: 535, 278066: 536, 278069: 537, 278070: 538, 278074: 539, 278075: 540, 278079: 541, 278085: 542, 278089: 543, 278092: 544, 278094: 545, 278095: 546, 278096: 547, 278097: 548, 278098: 549, 278100: 550, 278104: 551, 278106: 552, 278107: 553, 278110: 554, 278111: 555, 278112: 556, 278117: 557, 278119: 558, 278120: 559, 278122: 560, 278126: 561, 278130: 562, 278131: 563, 278137: 564, 278139: 565, 278140: 566, 278144: 567, 278148: 568, 278149: 569, 278153: 570, 278155: 571, 278156: 572, 278158: 573, 278159: 574, 278160: 575, 278161: 576, 278162: 577, 278167: 578, 278168: 579, 278172: 580, 278176: 581, 278177: 582, 278181: 583, 278183: 584, 278184: 585, 278185: 586, 278188: 587, 278193: 588, 278194: 589, 278197: 590, 278199: 591, 278200: 592, 278202: 593, 278203: 594, 278204: 595, 278206: 596, 278207: 597, 278209: 598, 278212: 599, 278213: 600, 278215: 601, 278216: 602, 278218: 603, 278220: 604, 278221: 605, 278224: 606, 278227: 607, 278229: 608, 278235: 609, 278237: 610, 278238: 611, 278242: 612, 278243: 613, 278244: 614, 278245: 615, 278246: 616, 278248: 617, 278249: 618, 278250: 619, 278251: 620, 278253: 621, 278254: 622, 278255: 623, 278257: 624, 278259: 625, 278260: 626, 278263: 627, 278264: 628, 278270: 629, 278274: 630, 278279: 631, 278280: 632, 278297: 633, 278300: 634, 278302: 635, 278307: 636, 278310: 637, 278311: 638, 278313: 639, 278314: 640, 278316: 641, 278319: 642, 278325: 643, 278328: 644, 278330: 645, 278332: 646, 278333: 647, 278334: 648, 278336: 649, 278342: 650, 278345: 651, 278346: 652, 278350: 653, 278355: 654, 278356: 655, 278357: 656, 278358: 657, 278361: 658, 278364: 659, 278365: 660, 278368: 661, 278373: 662, 278376: 663, 278377: 664, 278378: 665, 278388: 666, 278389: 667, 278390: 668, 278394: 669, 278396: 670, 278398: 671, 278400: 672, 278401: 673, 278407: 674, 278409: 675, 278411: 676, 278413: 677, 278418: 678, 278419: 679, 278422: 680, 278423: 681, 278425: 682, 278430: 683, 278431: 684, 278432: 685, 278435: 686, 278439: 687, 278444: 688, 278446: 689, 278449: 690, 278450: 691, 278452: 692, 278458: 693, 278459: 694, 278461: 695, 278462: 696, 278465: 697, 278466: 698, 278469: 699, 278474: 700, 278475: 701, 278479: 702, 278483: 703, 278487: 704, 278488: 705, 278490: 706, 278491: 707, 278492: 708, 278500: 709, 278501: 710, 278503: 711, 278506: 712, 278510: 713, 278512: 714, 278514: 715, 278515: 716, 278520: 717, 278522: 718, 278524: 719, 278525: 720, 278528: 721, 278529: 722, 278531: 723, 278533: 724, 278534: 725, 278535: 726, 278536: 727, 278537: 728, 278538: 729, 278539: 730, 278540: 731, 278541: 732, 278542: 733, 278543: 734, 278545: 735, 278550: 736, 278551: 737, 278552: 738, 278554: 739, 278556: 740, 278559: 741, 278561: 742, 278563: 743, 278565: 744, 278568: 745, 278569: 746, 278571: 747, 278573: 748, 278582: 749, 278586: 750, 278588: 751, 278597: 752, 278601: 753, 278606: 754, 278608: 755, 278610: 756, 278615: 757, 278618: 758, 278620: 759, 278621: 760, 278629: 761, 278633: 762, 278634: 763, 278636: 764, 278637: 765, 278641: 766, 278644: 767, 278645: 768, 278648: 769, 278650: 770, 278652: 771, 278653: 772, 278659: 773, 278663: 774, 278665: 775, 278668: 776, 278669: 777, 278670: 778, 278671: 779, 278672: 780, 278675: 781, 278681: 782, 278683: 783, 278688: 784, 278691: 785, 278692: 786, 278694: 787, 278698: 788, 278710: 789, 278713: 790, 278714: 791, 278715: 792, 278720: 793, 278721: 794, 278723: 795, 278724: 796, 278729: 797, 278731: 798, 278732: 799, 278740: 800, 278747: 801, 278750: 802, 278752: 803, 278755: 804, 278759: 805, 278760: 806, 278764: 807, 278766: 808, 278767: 809, 278769: 810, 278771: 811, 278772: 812, 278773: 813, 278774: 814, 278777: 815, 278778: 816, 278781: 817, 278782: 818, 278784: 819, 278786: 820, 278788: 821, 278789: 822, 278795: 823, 278796: 824, 278798: 825, 278799: 826, 278800: 827, 278806: 828, 278807: 829, 278813: 830, 278815: 831, 278818: 832, 278819: 833, 278820: 834, 278823: 835, 278824: 836, 278825: 837, 278828: 838, 278831: 839, 278832: 840, 278836: 841, 278838: 842, 278843: 843, 278844: 844, 278846: 845, 278849: 846, 278851: 847, 278852: 848, 278854: 849, 2: 850, 7: 851, 8: 852, 9: 853, 10: 854, 12: 855, 14: 856, 16: 857, 17: 858, 19: 859, 20: 860, 22: 861, 23: 862, 26: 863, 32: 864, 36: 865, 38: 866, 39: 867, 42: 868, 44: 869, 51: 870, 53: 871, 56: 872, 64: 873, 67: 874, 68: 875, 69: 876, 70: 877, 73: 878, 75: 879, 77: 880, 78: 881, 79: 882, 81: 883, 82: 884, 83: 885, 85: 886, 86: 887, 87: 888, 88: 889, 91: 890, 92: 891, 95: 892, 97: 893, 99: 894, 100: 895, 102: 896, 107: 897, 109: 898, 110: 899, 114: 900, 125: 901, 129: 902, 132: 903, 133: 904, 135: 905, 137: 906, 139: 907, 141: 908, 144: 909, 151: 910, 160: 911, 162: 912, 165: 913, 169: 914, 176: 915, 178: 916, 182: 917, 183: 918, 185: 919, 190: 920, 193: 921, 199: 922, 202: 923, 204: 924, 207: 925, 212: 926, 215: 927, 217: 928, 221: 929, 224: 930, 226: 931, 228: 932, 230: 933, 232: 934, 233: 935, 236: 936, 237: 937, 241: 938, 242: 939, 243: 940, 244: 941, 247: 942, 249: 943, 250: 944, 254: 945, 256: 946, 257: 947, 269: 948, 272: 949, 273: 950, 278: 951, 280: 952, 289: 953, 291: 954, 300: 955, 302: 956, 306: 957, 310: 958, 311: 959, 313: 960, 316: 961, 323: 962, 326: 963, 327: 964, 332: 965, 334: 966, 337: 967, 338: 968, 339: 969, 343: 970, 345: 971, 356: 972, 357: 973, 359: 974, 361: 975, 362: 976, 364: 977, 367: 978, 369: 979, 372: 980, 376: 981, 382: 982, 383: 983, 384: 984, 387: 985, 388: 986, 392: 987, 393: 988, 400: 989, 406: 990, 408: 991, 413: 992, 422: 993, 424: 994, 430: 995, 431: 996, 432: 997, 433: 998, 435: 999, 438: 1000, 439: 1001, 440: 1002, 441: 1003, 444: 1004, 446: 1005, 447: 1006, 453: 1007, 460: 1008, 463: 1009, 469: 1010, 472: 1011, 475: 1012, 476: 1013, 479: 1014, 483: 1015, 486: 1016, 487: 1017, 489: 1018, 493: 1019, 494: 1020, 496: 1021, 499: 1022, 500: 1023, 501: 1024, 503: 1025, 505: 1026, 507: 1027, 508: 1028, 512: 1029, 513: 1030, 516: 1031, 518: 1032, 523: 1033, 530: 1034, 537: 1035, 538: 1036, 542: 1037, 546: 1038, 547: 1039, 552: 1040, 558: 1041, 559: 1042, 564: 1043, 565: 1044, 566: 1045, 567: 1046, 569: 1047, 585: 1048, 592: 1049, 595: 1050, 596: 1051, 602: 1052, 614: 1053, 618: 1054, 619: 1055, 620: 1056, 621: 1057, 623: 1058, 625: 1059, 626: 1060, 628: 1061, 634: 1062, 638: 1063, 639: 1064, 640: 1065, 641: 1066, 643: 1067, 645: 1068, 649: 1069, 650: 1070, 651: 1071, 657: 1072, 660: 1073, 677: 1074, 678: 1075, 683: 1076, 685: 1077, 695: 1078, 698: 1079, 701: 1080, 705: 1081, 707: 1082, 708: 1083, 709: 1084, 711: 1085, 712: 1086, 713: 1087, 714: 1088, 717: 1089, 720: 1090, 724: 1091, 726: 1092, 728: 1093, 730: 1094, 735: 1095, 736: 1096, 737: 1097, 739: 1098, 741: 1099, 743: 1100, 744: 1101, 746: 1102, 753: 1103, 756: 1104, 757: 1105, 758: 1106, 759: 1107, 763: 1108, 765: 1109, 767: 1110, 769: 1111, 771: 1112, 774: 1113, 776: 1114, 777: 1115, 778: 1116, 780: 1117, 782: 1118, 785: 1119, 786: 1120, 790: 1121, 791: 1122, 795: 1123, 799: 1124, 805: 1125, 809: 1126, 811: 1127, 818: 1128, 819: 1129, 822: 1130, 824: 1131, 827: 1132, 828: 1133, 834: 1134, 835: 1135, 843: 1136, 848: 1137, 849: 1138, 850: 1139, 853: 1140, 861: 1141, 876: 1142, 878: 1143, 882: 1144, 883: 1145, 885: 1146, 886: 1147, 887: 1148, 895: 1149, 896: 1150, 899: 1151, 900: 1152, 901: 1153, 902: 1154, 903: 1155, 913: 1156, 914: 1157, 915: 1158, 916: 1159, 919: 1160, 921: 1161, 924: 1162, 929: 1163}\n",
            "encoded angka ke UserID:  {0: 276725, 1: 276726, 2: 276727, 3: 276729, 4: 276733, 5: 276736, 6: 276737, 7: 276744, 8: 276745, 9: 276746, 10: 276747, 11: 276748, 12: 276751, 13: 276754, 14: 276755, 15: 276760, 16: 276762, 17: 276765, 18: 276768, 19: 276772, 20: 276774, 21: 276780, 22: 276786, 23: 276788, 24: 276796, 25: 276798, 26: 276800, 27: 276803, 28: 276804, 29: 276806, 30: 276808, 31: 276811, 32: 276812, 33: 276813, 34: 276814, 35: 276817, 36: 276820, 37: 276822, 38: 276827, 39: 276828, 40: 276830, 41: 276832, 42: 276833, 43: 276835, 44: 276837, 45: 276838, 46: 276840, 47: 276842, 48: 276847, 49: 276848, 50: 276850, 51: 276852, 52: 276853, 53: 276854, 54: 276856, 55: 276857, 56: 276859, 57: 276861, 58: 276862, 59: 276863, 60: 276866, 61: 276869, 62: 276870, 63: 276872, 64: 276873, 65: 276875, 66: 276878, 67: 276879, 68: 276884, 69: 276887, 70: 276888, 71: 276889, 72: 276890, 73: 276896, 74: 276904, 75: 276905, 76: 276911, 77: 276912, 78: 276915, 79: 276916, 80: 276925, 81: 276927, 82: 276928, 83: 276929, 84: 276934, 85: 276936, 86: 276939, 87: 276943, 88: 276946, 89: 276949, 90: 276950, 91: 276953, 92: 276954, 93: 276957, 94: 276959, 95: 276963, 96: 276964, 97: 276965, 98: 276975, 99: 276981, 100: 276984, 101: 276986, 102: 276988, 103: 276989, 104: 276990, 105: 276992, 106: 276994, 107: 276997, 108: 276998, 109: 277002, 110: 277007, 111: 277009, 112: 277010, 113: 277012, 114: 277018, 115: 277019, 116: 277022, 117: 277023, 118: 277028, 119: 277031, 120: 277032, 121: 277035, 122: 277036, 123: 277040, 124: 277042, 125: 277048, 126: 277051, 127: 277052, 128: 277053, 129: 277056, 130: 277058, 131: 277064, 132: 277065, 133: 277072, 134: 277073, 135: 277074, 136: 277075, 137: 277079, 138: 277085, 139: 277087, 140: 277090, 141: 277094, 142: 277096, 143: 277102, 144: 277107, 145: 277109, 146: 277114, 147: 277116, 148: 277123, 149: 277124, 150: 277128, 151: 277129, 152: 277134, 153: 277135, 154: 277139, 155: 277142, 156: 277143, 157: 277149, 158: 277155, 159: 277157, 160: 277159, 161: 277165, 162: 277168, 163: 277170, 164: 277171, 165: 277176, 166: 277179, 167: 277180, 168: 277183, 169: 277186, 170: 277187, 171: 277188, 172: 277189, 173: 277195, 174: 277196, 175: 277197, 176: 277203, 177: 277205, 178: 277209, 179: 277212, 180: 277220, 181: 277221, 182: 277228, 183: 277229, 184: 277230, 185: 277231, 186: 277232, 187: 277235, 188: 277237, 189: 277240, 190: 277242, 191: 277243, 192: 277244, 193: 277245, 194: 277246, 195: 277249, 196: 277253, 197: 277256, 198: 277257, 199: 277261, 200: 277262, 201: 277265, 202: 277267, 203: 277268, 204: 277269, 205: 277271, 206: 277272, 207: 277274, 208: 277281, 209: 277284, 210: 277285, 211: 277288, 212: 277291, 213: 277292, 214: 277293, 215: 277305, 216: 277314, 217: 277315, 218: 277317, 219: 277330, 220: 277334, 221: 277338, 222: 277339, 223: 277340, 224: 277341, 225: 277343, 226: 277348, 227: 277351, 228: 277353, 229: 277358, 230: 277359, 231: 277363, 232: 277364, 233: 277367, 234: 277369, 235: 277371, 236: 277374, 237: 277375, 238: 277378, 239: 277379, 240: 277380, 241: 277384, 242: 277388, 243: 277389, 244: 277392, 245: 277397, 246: 277399, 247: 277400, 248: 277402, 249: 277405, 250: 277408, 251: 277411, 252: 277413, 253: 277424, 254: 277425, 255: 277427, 256: 277432, 257: 277433, 258: 277434, 259: 277435, 260: 277436, 261: 277439, 262: 277444, 263: 277453, 264: 277457, 265: 277461, 266: 277462, 267: 277466, 268: 277469, 269: 277470, 270: 277471, 271: 277473, 272: 277474, 273: 277478, 274: 277479, 275: 277486, 276: 277488, 277: 277489, 278: 277502, 279: 277506, 280: 277508, 281: 277509, 282: 277513, 283: 277514, 284: 277516, 285: 277517, 286: 277518, 287: 277519, 288: 277523, 289: 277525, 290: 277526, 291: 277527, 292: 277528, 293: 277529, 294: 277530, 295: 277532, 296: 277533, 297: 277535, 298: 277538, 299: 277544, 300: 277547, 301: 277548, 302: 277554, 303: 277556, 304: 277559, 305: 277560, 306: 277562, 307: 277563, 308: 277565, 309: 277568, 310: 277569, 311: 277574, 312: 277575, 313: 277579, 314: 277585, 315: 277586, 316: 277588, 317: 277589, 318: 277590, 319: 277594, 320: 277595, 321: 277596, 322: 277598, 323: 277601, 324: 277605, 325: 277610, 326: 277619, 327: 277622, 328: 277623, 329: 277627, 330: 277629, 331: 277632, 332: 277633, 333: 277636, 334: 277638, 335: 277639, 336: 277641, 337: 277643, 338: 277646, 339: 277647, 340: 277648, 341: 277650, 342: 277651, 343: 277657, 344: 277660, 345: 277662, 346: 277665, 347: 277667, 348: 277680, 349: 277681, 350: 277682, 351: 277687, 352: 277688, 353: 277689, 354: 277691, 355: 277696, 356: 277697, 357: 277698, 358: 277700, 359: 277701, 360: 277705, 361: 277706, 362: 277710, 363: 277711, 364: 277712, 365: 277714, 366: 277716, 367: 277720, 368: 277722, 369: 277727, 370: 277728, 371: 277737, 372: 277740, 373: 277741, 374: 277743, 375: 277744, 376: 277746, 377: 277748, 378: 277752, 379: 277753, 380: 277756, 381: 277759, 382: 277761, 383: 277764, 384: 277765, 385: 277767, 386: 277768, 387: 277769, 388: 277774, 389: 277775, 390: 277776, 391: 277777, 392: 277778, 393: 277779, 394: 277781, 395: 277782, 396: 277783, 397: 277784, 398: 277786, 399: 277787, 400: 277788, 401: 277790, 402: 277791, 403: 277793, 404: 277794, 405: 277795, 406: 277797, 407: 277798, 408: 277799, 409: 277800, 410: 277801, 411: 277802, 412: 277803, 413: 277807, 414: 277808, 415: 277809, 416: 277811, 417: 277812, 418: 277813, 419: 277814, 420: 277816, 421: 277817, 422: 277818, 423: 277819, 424: 277820, 425: 277823, 426: 277824, 427: 277825, 428: 277826, 429: 277827, 430: 277828, 431: 277830, 432: 277831, 433: 277832, 434: 277833, 435: 277834, 436: 277835, 437: 277837, 438: 277838, 439: 277840, 440: 277841, 441: 277842, 442: 277843, 443: 277844, 444: 277845, 445: 277847, 446: 277853, 447: 277856, 448: 277862, 449: 277864, 450: 277867, 451: 277872, 452: 277873, 453: 277877, 454: 277879, 455: 277882, 456: 277884, 457: 277888, 458: 277891, 459: 277892, 460: 277894, 461: 277895, 462: 277898, 463: 277901, 464: 277903, 465: 277904, 466: 277908, 467: 277909, 468: 277911, 469: 277913, 470: 277915, 471: 277918, 472: 277919, 473: 277921, 474: 277922, 475: 277923, 476: 277928, 477: 277929, 478: 277930, 479: 277932, 480: 277934, 481: 277937, 482: 277938, 483: 277941, 484: 277945, 485: 277946, 486: 277947, 487: 277953, 488: 277954, 489: 277958, 490: 277959, 491: 277962, 492: 277964, 493: 277965, 494: 277969, 495: 277975, 496: 277978, 497: 277982, 498: 277984, 499: 277987, 500: 277988, 501: 277989, 502: 277992, 503: 277993, 504: 277996, 505: 277997, 506: 277998, 507: 278002, 508: 278004, 509: 278007, 510: 278008, 511: 278009, 512: 278012, 513: 278013, 514: 278014, 515: 278017, 516: 278019, 517: 278020, 518: 278021, 519: 278022, 520: 278023, 521: 278024, 522: 278026, 523: 278030, 524: 278034, 525: 278036, 526: 278043, 527: 278044, 528: 278048, 529: 278054, 530: 278056, 531: 278057, 532: 278058, 533: 278063, 534: 278064, 535: 278065, 536: 278066, 537: 278069, 538: 278070, 539: 278074, 540: 278075, 541: 278079, 542: 278085, 543: 278089, 544: 278092, 545: 278094, 546: 278095, 547: 278096, 548: 278097, 549: 278098, 550: 278100, 551: 278104, 552: 278106, 553: 278107, 554: 278110, 555: 278111, 556: 278112, 557: 278117, 558: 278119, 559: 278120, 560: 278122, 561: 278126, 562: 278130, 563: 278131, 564: 278137, 565: 278139, 566: 278140, 567: 278144, 568: 278148, 569: 278149, 570: 278153, 571: 278155, 572: 278156, 573: 278158, 574: 278159, 575: 278160, 576: 278161, 577: 278162, 578: 278167, 579: 278168, 580: 278172, 581: 278176, 582: 278177, 583: 278181, 584: 278183, 585: 278184, 586: 278185, 587: 278188, 588: 278193, 589: 278194, 590: 278197, 591: 278199, 592: 278200, 593: 278202, 594: 278203, 595: 278204, 596: 278206, 597: 278207, 598: 278209, 599: 278212, 600: 278213, 601: 278215, 602: 278216, 603: 278218, 604: 278220, 605: 278221, 606: 278224, 607: 278227, 608: 278229, 609: 278235, 610: 278237, 611: 278238, 612: 278242, 613: 278243, 614: 278244, 615: 278245, 616: 278246, 617: 278248, 618: 278249, 619: 278250, 620: 278251, 621: 278253, 622: 278254, 623: 278255, 624: 278257, 625: 278259, 626: 278260, 627: 278263, 628: 278264, 629: 278270, 630: 278274, 631: 278279, 632: 278280, 633: 278297, 634: 278300, 635: 278302, 636: 278307, 637: 278310, 638: 278311, 639: 278313, 640: 278314, 641: 278316, 642: 278319, 643: 278325, 644: 278328, 645: 278330, 646: 278332, 647: 278333, 648: 278334, 649: 278336, 650: 278342, 651: 278345, 652: 278346, 653: 278350, 654: 278355, 655: 278356, 656: 278357, 657: 278358, 658: 278361, 659: 278364, 660: 278365, 661: 278368, 662: 278373, 663: 278376, 664: 278377, 665: 278378, 666: 278388, 667: 278389, 668: 278390, 669: 278394, 670: 278396, 671: 278398, 672: 278400, 673: 278401, 674: 278407, 675: 278409, 676: 278411, 677: 278413, 678: 278418, 679: 278419, 680: 278422, 681: 278423, 682: 278425, 683: 278430, 684: 278431, 685: 278432, 686: 278435, 687: 278439, 688: 278444, 689: 278446, 690: 278449, 691: 278450, 692: 278452, 693: 278458, 694: 278459, 695: 278461, 696: 278462, 697: 278465, 698: 278466, 699: 278469, 700: 278474, 701: 278475, 702: 278479, 703: 278483, 704: 278487, 705: 278488, 706: 278490, 707: 278491, 708: 278492, 709: 278500, 710: 278501, 711: 278503, 712: 278506, 713: 278510, 714: 278512, 715: 278514, 716: 278515, 717: 278520, 718: 278522, 719: 278524, 720: 278525, 721: 278528, 722: 278529, 723: 278531, 724: 278533, 725: 278534, 726: 278535, 727: 278536, 728: 278537, 729: 278538, 730: 278539, 731: 278540, 732: 278541, 733: 278542, 734: 278543, 735: 278545, 736: 278550, 737: 278551, 738: 278552, 739: 278554, 740: 278556, 741: 278559, 742: 278561, 743: 278563, 744: 278565, 745: 278568, 746: 278569, 747: 278571, 748: 278573, 749: 278582, 750: 278586, 751: 278588, 752: 278597, 753: 278601, 754: 278606, 755: 278608, 756: 278610, 757: 278615, 758: 278618, 759: 278620, 760: 278621, 761: 278629, 762: 278633, 763: 278634, 764: 278636, 765: 278637, 766: 278641, 767: 278644, 768: 278645, 769: 278648, 770: 278650, 771: 278652, 772: 278653, 773: 278659, 774: 278663, 775: 278665, 776: 278668, 777: 278669, 778: 278670, 779: 278671, 780: 278672, 781: 278675, 782: 278681, 783: 278683, 784: 278688, 785: 278691, 786: 278692, 787: 278694, 788: 278698, 789: 278710, 790: 278713, 791: 278714, 792: 278715, 793: 278720, 794: 278721, 795: 278723, 796: 278724, 797: 278729, 798: 278731, 799: 278732, 800: 278740, 801: 278747, 802: 278750, 803: 278752, 804: 278755, 805: 278759, 806: 278760, 807: 278764, 808: 278766, 809: 278767, 810: 278769, 811: 278771, 812: 278772, 813: 278773, 814: 278774, 815: 278777, 816: 278778, 817: 278781, 818: 278782, 819: 278784, 820: 278786, 821: 278788, 822: 278789, 823: 278795, 824: 278796, 825: 278798, 826: 278799, 827: 278800, 828: 278806, 829: 278807, 830: 278813, 831: 278815, 832: 278818, 833: 278819, 834: 278820, 835: 278823, 836: 278824, 837: 278825, 838: 278828, 839: 278831, 840: 278832, 841: 278836, 842: 278838, 843: 278843, 844: 278844, 845: 278846, 846: 278849, 847: 278851, 848: 278852, 849: 278854, 850: 2, 851: 7, 852: 8, 853: 9, 854: 10, 855: 12, 856: 14, 857: 16, 858: 17, 859: 19, 860: 20, 861: 22, 862: 23, 863: 26, 864: 32, 865: 36, 866: 38, 867: 39, 868: 42, 869: 44, 870: 51, 871: 53, 872: 56, 873: 64, 874: 67, 875: 68, 876: 69, 877: 70, 878: 73, 879: 75, 880: 77, 881: 78, 882: 79, 883: 81, 884: 82, 885: 83, 886: 85, 887: 86, 888: 87, 889: 88, 890: 91, 891: 92, 892: 95, 893: 97, 894: 99, 895: 100, 896: 102, 897: 107, 898: 109, 899: 110, 900: 114, 901: 125, 902: 129, 903: 132, 904: 133, 905: 135, 906: 137, 907: 139, 908: 141, 909: 144, 910: 151, 911: 160, 912: 162, 913: 165, 914: 169, 915: 176, 916: 178, 917: 182, 918: 183, 919: 185, 920: 190, 921: 193, 922: 199, 923: 202, 924: 204, 925: 207, 926: 212, 927: 215, 928: 217, 929: 221, 930: 224, 931: 226, 932: 228, 933: 230, 934: 232, 935: 233, 936: 236, 937: 237, 938: 241, 939: 242, 940: 243, 941: 244, 942: 247, 943: 249, 944: 250, 945: 254, 946: 256, 947: 257, 948: 269, 949: 272, 950: 273, 951: 278, 952: 280, 953: 289, 954: 291, 955: 300, 956: 302, 957: 306, 958: 310, 959: 311, 960: 313, 961: 316, 962: 323, 963: 326, 964: 327, 965: 332, 966: 334, 967: 337, 968: 338, 969: 339, 970: 343, 971: 345, 972: 356, 973: 357, 974: 359, 975: 361, 976: 362, 977: 364, 978: 367, 979: 369, 980: 372, 981: 376, 982: 382, 983: 383, 984: 384, 985: 387, 986: 388, 987: 392, 988: 393, 989: 400, 990: 406, 991: 408, 992: 413, 993: 422, 994: 424, 995: 430, 996: 431, 997: 432, 998: 433, 999: 435, 1000: 438, 1001: 439, 1002: 440, 1003: 441, 1004: 444, 1005: 446, 1006: 447, 1007: 453, 1008: 460, 1009: 463, 1010: 469, 1011: 472, 1012: 475, 1013: 476, 1014: 479, 1015: 483, 1016: 486, 1017: 487, 1018: 489, 1019: 493, 1020: 494, 1021: 496, 1022: 499, 1023: 500, 1024: 501, 1025: 503, 1026: 505, 1027: 507, 1028: 508, 1029: 512, 1030: 513, 1031: 516, 1032: 518, 1033: 523, 1034: 530, 1035: 537, 1036: 538, 1037: 542, 1038: 546, 1039: 547, 1040: 552, 1041: 558, 1042: 559, 1043: 564, 1044: 565, 1045: 566, 1046: 567, 1047: 569, 1048: 585, 1049: 592, 1050: 595, 1051: 596, 1052: 602, 1053: 614, 1054: 618, 1055: 619, 1056: 620, 1057: 621, 1058: 623, 1059: 625, 1060: 626, 1061: 628, 1062: 634, 1063: 638, 1064: 639, 1065: 640, 1066: 641, 1067: 643, 1068: 645, 1069: 649, 1070: 650, 1071: 651, 1072: 657, 1073: 660, 1074: 677, 1075: 678, 1076: 683, 1077: 685, 1078: 695, 1079: 698, 1080: 701, 1081: 705, 1082: 707, 1083: 708, 1084: 709, 1085: 711, 1086: 712, 1087: 713, 1088: 714, 1089: 717, 1090: 720, 1091: 724, 1092: 726, 1093: 728, 1094: 730, 1095: 735, 1096: 736, 1097: 737, 1098: 739, 1099: 741, 1100: 743, 1101: 744, 1102: 746, 1103: 753, 1104: 756, 1105: 757, 1106: 758, 1107: 759, 1108: 763, 1109: 765, 1110: 767, 1111: 769, 1112: 771, 1113: 774, 1114: 776, 1115: 777, 1116: 778, 1117: 780, 1118: 782, 1119: 785, 1120: 786, 1121: 790, 1122: 791, 1123: 795, 1124: 799, 1125: 805, 1126: 809, 1127: 811, 1128: 818, 1129: 819, 1130: 822, 1131: 824, 1132: 827, 1133: 828, 1134: 834, 1135: 835, 1136: 843, 1137: 848, 1138: 849, 1139: 850, 1140: 853, 1141: 861, 1142: 876, 1143: 878, 1144: 882, 1145: 883, 1146: 885, 1147: 886, 1148: 887, 1149: 895, 1150: 896, 1151: 899, 1152: 900, 1153: 901, 1154: 902, 1155: 903, 1156: 913, 1157: 914, 1158: 915, 1159: 916, 1160: 919, 1161: 921, 1162: 924, 1163: 929}\n"
          ]
        }
      ]
    },
    {
      "cell_type": "markdown",
      "metadata": {
        "id": "GytxexJdm82p"
      },
      "source": [
        "Pada output diatas menampilkan encode fitur ‘UserID’ dimana terdiri dari list UserID, encoded UserId dan encoded angka ke UserID."
      ]
    },
    {
      "cell_type": "markdown",
      "metadata": {
        "id": "5eJm2NVUobub"
      },
      "source": [
        "Untuk proses encoding fitur ISBN sama seperti proses encoding fitur UserID yang dilanjutkan dengan memetakan userID dan ISBN ke dataframe yang berkaitan seperti userID ke dataframe user dan ISBN ke dataframe book."
      ]
    },
    {
      "cell_type": "code",
      "metadata": {
        "colab": {
          "base_uri": "https://localhost:8080/"
        },
        "id": "CF3lpw1OX3D8",
        "outputId": "728c4b2d-1b10-4d33-d17e-571673afd348"
      },
      "source": [
        "# Mengubah ISBN menjadi list tanpa nilai yang sama\n",
        "book_ids = df['ISBN'].unique().tolist()\n",
        " \n",
        "# Melakukan proses encoding ISBN\n",
        "book_to_book_encoded = {x: i for i, x in enumerate(book_ids)}\n",
        " \n",
        "# Melakukan proses encoding angka ke ISBN\n",
        "book_encoded_to_book = {i: x for i, x in enumerate(book_ids)}\n",
        " \n",
        "#Selanjutnya, petakan userID dan ISBN ke dataframe yang berkaitan.\n",
        " \n",
        "# Mapping userID ke dataframe user\n",
        "df['user'] = df['UserID'].map(user_to_user_encoded)\n",
        " \n",
        "# Mapping ISBN ke dataframe book\n",
        "df['book'] = df['ISBN'].map(book_to_book_encoded)"
      ],
      "execution_count": 37,
      "outputs": [
        {
          "output_type": "stream",
          "name": "stderr",
          "text": [
            "/usr/local/lib/python3.7/dist-packages/ipykernel_launcher.py:13: SettingWithCopyWarning: \n",
            "A value is trying to be set on a copy of a slice from a DataFrame.\n",
            "Try using .loc[row_indexer,col_indexer] = value instead\n",
            "\n",
            "See the caveats in the documentation: https://pandas.pydata.org/pandas-docs/stable/user_guide/indexing.html#returning-a-view-versus-a-copy\n",
            "  del sys.path[0]\n",
            "/usr/local/lib/python3.7/dist-packages/ipykernel_launcher.py:16: SettingWithCopyWarning: \n",
            "A value is trying to be set on a copy of a slice from a DataFrame.\n",
            "Try using .loc[row_indexer,col_indexer] = value instead\n",
            "\n",
            "See the caveats in the documentation: https://pandas.pydata.org/pandas-docs/stable/user_guide/indexing.html#returning-a-view-versus-a-copy\n",
            "  app.launch_new_instance()\n"
          ]
        }
      ]
    },
    {
      "cell_type": "markdown",
      "metadata": {
        "id": "CoUAyQNEoedW"
      },
      "source": [
        "Tahap terakhir yaitu melakukan pengecekan data seperti jumlah user, jumlah book dan mengubah nilai rating yang awalnya memiliki tipe data integer menjadi float."
      ]
    },
    {
      "cell_type": "code",
      "metadata": {
        "colab": {
          "base_uri": "https://localhost:8080/"
        },
        "id": "kJwkgoheY6qJ",
        "outputId": "9b587fe1-87dc-4e37-9ccd-822b9eb8312e"
      },
      "source": [
        "# Mendapatkan jumlah user\n",
        "num_users = len(user_to_user_encoded)\n",
        "print(num_users)\n",
        " \n",
        "# Mendapatkan jumlah book\n",
        "num_book = len(book_encoded_to_book)\n",
        "print(num_book)\n",
        " \n",
        "# Mengubah rating menjadi nilai float\n",
        "df['Book_Rating'] = df['Book_Rating'].values.astype(np.float32)\n",
        " \n",
        "# Nilai minimum rating\n",
        "min_rating = min(df['Book_Rating'])\n",
        " \n",
        "# Nilai maksimal rating\n",
        "max_rating = max(df['Book_Rating'])\n",
        " \n",
        "print('Number of User: {}, Number of Resto: {}, Min Rating: {}, Max Rating: {}'.format(\n",
        "    num_users, num_book, min_rating, max_rating\n",
        "))"
      ],
      "execution_count": 38,
      "outputs": [
        {
          "output_type": "stream",
          "name": "stdout",
          "text": [
            "1164\n",
            "10945\n",
            "Number of User: 1164, Number of Resto: 10945, Min Rating: 0.0, Max Rating: 10.0\n"
          ]
        },
        {
          "output_type": "stream",
          "name": "stderr",
          "text": [
            "/usr/local/lib/python3.7/dist-packages/ipykernel_launcher.py:10: SettingWithCopyWarning: \n",
            "A value is trying to be set on a copy of a slice from a DataFrame.\n",
            "Try using .loc[row_indexer,col_indexer] = value instead\n",
            "\n",
            "See the caveats in the documentation: https://pandas.pydata.org/pandas-docs/stable/user_guide/indexing.html#returning-a-view-versus-a-copy\n",
            "  # Remove the CWD from sys.path while we load stuff.\n"
          ]
        }
      ]
    },
    {
      "cell_type": "markdown",
      "metadata": {
        "id": "GQR1XBBFon_e"
      },
      "source": [
        "Pada output diatas ditampilkan jumlah user, jumlah book, minimum rating dan maksimal rating."
      ]
    },
    {
      "cell_type": "markdown",
      "metadata": {
        "id": "rvkBNyIFpCaz"
      },
      "source": [
        "Untuk tahap ini dilakukan pengacakan dataset agar distribusi yang dilakukan menjadi random"
      ]
    },
    {
      "cell_type": "code",
      "metadata": {
        "colab": {
          "base_uri": "https://localhost:8080/",
          "height": 418
        },
        "id": "Z1LHRhfnZqjJ",
        "outputId": "1fac93c9-8d1b-4946-a93f-211962dd128f"
      },
      "source": [
        "# Mengacak dataset\n",
        "df = df.sample(frac=1, random_state=42)\n",
        "df"
      ],
      "execution_count": 39,
      "outputs": [
        {
          "output_type": "execute_result",
          "data": {
            "text/html": [
              "<div>\n",
              "<style scoped>\n",
              "    .dataframe tbody tr th:only-of-type {\n",
              "        vertical-align: middle;\n",
              "    }\n",
              "\n",
              "    .dataframe tbody tr th {\n",
              "        vertical-align: top;\n",
              "    }\n",
              "\n",
              "    .dataframe thead th {\n",
              "        text-align: right;\n",
              "    }\n",
              "</style>\n",
              "<table border=\"1\" class=\"dataframe\">\n",
              "  <thead>\n",
              "    <tr style=\"text-align: right;\">\n",
              "      <th></th>\n",
              "      <th>UserID</th>\n",
              "      <th>ISBN</th>\n",
              "      <th>Book_Rating</th>\n",
              "      <th>user</th>\n",
              "      <th>book</th>\n",
              "    </tr>\n",
              "  </thead>\n",
              "  <tbody>\n",
              "    <tr>\n",
              "      <th>1935</th>\n",
              "      <td>277427</td>\n",
              "      <td>156865037X</td>\n",
              "      <td>7.0</td>\n",
              "      <td>255</td>\n",
              "      <td>1881</td>\n",
              "    </tr>\n",
              "    <tr>\n",
              "      <th>6494</th>\n",
              "      <td>278418</td>\n",
              "      <td>0446360406</td>\n",
              "      <td>0.0</td>\n",
              "      <td>678</td>\n",
              "      <td>6118</td>\n",
              "    </tr>\n",
              "    <tr>\n",
              "      <th>1720</th>\n",
              "      <td>277427</td>\n",
              "      <td>0553297422</td>\n",
              "      <td>0.0</td>\n",
              "      <td>255</td>\n",
              "      <td>1676</td>\n",
              "    </tr>\n",
              "    <tr>\n",
              "      <th>9120</th>\n",
              "      <td>278582</td>\n",
              "      <td>0140277471</td>\n",
              "      <td>9.0</td>\n",
              "      <td>749</td>\n",
              "      <td>8616</td>\n",
              "    </tr>\n",
              "    <tr>\n",
              "      <th>360</th>\n",
              "      <td>276875</td>\n",
              "      <td>883041915X</td>\n",
              "      <td>0.0</td>\n",
              "      <td>65</td>\n",
              "      <td>356</td>\n",
              "    </tr>\n",
              "    <tr>\n",
              "      <th>...</th>\n",
              "      <td>...</td>\n",
              "      <td>...</td>\n",
              "      <td>...</td>\n",
              "      <td>...</td>\n",
              "      <td>...</td>\n",
              "    </tr>\n",
              "    <tr>\n",
              "      <th>11964</th>\n",
              "      <td>929</td>\n",
              "      <td>0345331605</td>\n",
              "      <td>7.0</td>\n",
              "      <td>1163</td>\n",
              "      <td>10917</td>\n",
              "    </tr>\n",
              "    <tr>\n",
              "      <th>5191</th>\n",
              "      <td>278418</td>\n",
              "      <td>0373074050</td>\n",
              "      <td>0.0</td>\n",
              "      <td>678</td>\n",
              "      <td>4870</td>\n",
              "    </tr>\n",
              "    <tr>\n",
              "      <th>5390</th>\n",
              "      <td>278418</td>\n",
              "      <td>0373121962</td>\n",
              "      <td>0.0</td>\n",
              "      <td>678</td>\n",
              "      <td>5066</td>\n",
              "    </tr>\n",
              "    <tr>\n",
              "      <th>860</th>\n",
              "      <td>277087</td>\n",
              "      <td>8472230082</td>\n",
              "      <td>5.0</td>\n",
              "      <td>139</td>\n",
              "      <td>850</td>\n",
              "    </tr>\n",
              "    <tr>\n",
              "      <th>7270</th>\n",
              "      <td>278418</td>\n",
              "      <td>0590455877</td>\n",
              "      <td>0.0</td>\n",
              "      <td>678</td>\n",
              "      <td>6857</td>\n",
              "    </tr>\n",
              "  </tbody>\n",
              "</table>\n",
              "<p>12000 rows × 5 columns</p>\n",
              "</div>"
            ],
            "text/plain": [
              "       UserID        ISBN  Book_Rating  user   book\n",
              "1935   277427  156865037X          7.0   255   1881\n",
              "6494   278418  0446360406          0.0   678   6118\n",
              "1720   277427  0553297422          0.0   255   1676\n",
              "9120   278582  0140277471          9.0   749   8616\n",
              "360    276875  883041915X          0.0    65    356\n",
              "...       ...         ...          ...   ...    ...\n",
              "11964     929  0345331605          7.0  1163  10917\n",
              "5191   278418  0373074050          0.0   678   4870\n",
              "5390   278418  0373121962          0.0   678   5066\n",
              "860    277087  8472230082          5.0   139    850\n",
              "7270   278418  0590455877          0.0   678   6857\n",
              "\n",
              "[12000 rows x 5 columns]"
            ]
          },
          "metadata": {},
          "execution_count": 39
        }
      ]
    },
    {
      "cell_type": "markdown",
      "metadata": {
        "id": "e86vGEdppW0j"
      },
      "source": [
        "Selanjutnya, membagi data train dan validasi dengan komposisi 90:20. Namun sebelumnya, kita perlu memetakan (mapping) data user dan book menjadi satu value terlebih dahulu. Kemudian, membuat rating dalam skala 0 sampai 1 agar mudah dalam melakukan proses training. "
      ]
    },
    {
      "cell_type": "code",
      "metadata": {
        "colab": {
          "base_uri": "https://localhost:8080/"
        },
        "id": "flpL6UBEaH-J",
        "outputId": "7b854c98-eef6-4ae9-d9fc-91b3dca3c7f7"
      },
      "source": [
        "# Membuat variabel x untuk mencocokkan data user dan book menjadi satu value\n",
        "x = df[['user', 'book']].values\n",
        " \n",
        "# Membuat variabel y untuk membuat rating dari hasil \n",
        "y = df['Book_Rating'].apply(lambda x: (x - min_rating) / (max_rating - min_rating)).values\n",
        " \n",
        "# Membagi menjadi 90% data train dan 20% data validasi\n",
        "train_indices = int(0.9 * df.shape[0])\n",
        "x_train, x_val, y_train, y_val = (\n",
        "    x[:train_indices],\n",
        "    x[train_indices:],\n",
        "    y[:train_indices],\n",
        "    y[train_indices:]\n",
        ")\n",
        " \n",
        "print(x, y)"
      ],
      "execution_count": 40,
      "outputs": [
        {
          "output_type": "stream",
          "name": "stdout",
          "text": [
            "[[ 255 1881]\n",
            " [ 678 6118]\n",
            " [ 255 1676]\n",
            " ...\n",
            " [ 678 5066]\n",
            " [ 139  850]\n",
            " [ 678 6857]] [0.7 0.  0.  ... 0.  0.5 0. ]\n"
          ]
        }
      ]
    },
    {
      "cell_type": "markdown",
      "metadata": {
        "id": "835UlzcIeLfp"
      },
      "source": [
        "# **Modelling**\n",
        "\n",
        "Pada tahap ini saya menggunakan model collaborative filtering dimana menggunakan metode deep learning yang bertujuan menghasilkan rekomendasi buku."
      ]
    },
    {
      "cell_type": "markdown",
      "metadata": {
        "id": "pgov-X6IqIyi"
      },
      "source": [
        "Tahap awal yang dilakukan yaitu melakukan proses embedding terhadap data user dan book. Lalu dilanjutkan dengan operasi perkalian dot product antara embedding user dan book serta menambahkan bias untuk kedua data. Skor kecocokan di tetapkan dalam skala [0,1] dengan fungsi aktivasi sigmoid"
      ]
    },
    {
      "cell_type": "code",
      "metadata": {
        "id": "5z2l3LpMaTGs"
      },
      "source": [
        "import tensorflow as tf\n",
        "from tensorflow import keras\n",
        "from tensorflow.keras import layers\n",
        "class RecommenderNet(tf.keras.Model):\n",
        " \n",
        "  # Insialisasi fungsi\n",
        "  def __init__(self, num_users, num_book, embedding_size, **kwargs):\n",
        "    super(RecommenderNet, self).__init__(**kwargs)\n",
        "    self.num_users = num_users\n",
        "    self.num_book = num_book\n",
        "    self.embedding_size = embedding_size\n",
        "    self.user_embedding = layers.Embedding( # layer embedding user\n",
        "        num_users,\n",
        "        embedding_size,\n",
        "        embeddings_initializer = 'he_normal',\n",
        "        embeddings_regularizer = keras.regularizers.l2(1e-6)\n",
        "    )\n",
        "    self.user_bias = layers.Embedding(num_users, 1) # layer embedding user bias\n",
        "    self.book_embedding = layers.Embedding( # layer embeddings book\n",
        "        num_book,\n",
        "        embedding_size,\n",
        "        embeddings_initializer = 'he_normal',\n",
        "        embeddings_regularizer = keras.regularizers.l2(1e-6)\n",
        "    )\n",
        "    self.book_bias = layers.Embedding(num_book, 1) # layer embedding book bias\n",
        " \n",
        "  def call(self, inputs):\n",
        "    user_vector = self.user_embedding(inputs[:,0]) # memanggil layer embedding 1\n",
        "    user_bias = self.user_bias(inputs[:, 0]) # memanggil layer embedding 2\n",
        "    book_vector = self.book_embedding(inputs[:, 1]) # memanggil layer embedding 3\n",
        "    book_bias = self.book_bias(inputs[:, 1]) # memanggil layer embedding 4\n",
        " \n",
        "    dot_user_book = tf.tensordot(user_vector, book_vector, 2) \n",
        " \n",
        "    x = dot_user_book + user_bias + book_bias\n",
        "    \n",
        "    return tf.nn.sigmoid(x) # activation sigmoid"
      ],
      "execution_count": 41,
      "outputs": []
    },
    {
      "cell_type": "markdown",
      "metadata": {
        "id": "FmOTpa4-qWBR"
      },
      "source": [
        "Langkah selanjutnya dengan melakukan proses compile terhadap model yang terdiri dari loss function yang menggunakan Binary Crossentropy, optimizer yang menggunakan Adam (Adaptive Moment Estimation) dan untuk metrics evaluation yaitu root mean squared error (RMSE)"
      ]
    },
    {
      "cell_type": "code",
      "metadata": {
        "id": "31OCFtToa4r6"
      },
      "source": [
        "model = RecommenderNet(num_users, num_book, 50) # inisialisasi model\n",
        " \n",
        "# model compile\n",
        "model.compile(\n",
        "    loss = tf.keras.losses.BinaryCrossentropy(),\n",
        "    optimizer = keras.optimizers.Adam(learning_rate=0.001),\n",
        "    metrics=[tf.keras.metrics.RootMeanSquaredError()]\n",
        ")"
      ],
      "execution_count": 42,
      "outputs": []
    },
    {
      "cell_type": "markdown",
      "metadata": {
        "id": "iqkmF0T-qd0H"
      },
      "source": [
        "Melakukan proses training"
      ]
    },
    {
      "cell_type": "code",
      "metadata": {
        "colab": {
          "base_uri": "https://localhost:8080/"
        },
        "id": "AGW7JG6Ya-eC",
        "outputId": "6f93a0cb-7ab3-4743-c368-1bcfe349b121"
      },
      "source": [
        "# Memulai training\n",
        " \n",
        "history = model.fit(\n",
        "    x = x_train,\n",
        "    y = y_train,\n",
        "    batch_size = 8,\n",
        "    epochs = 20,\n",
        "    validation_data = (x_val, y_val)\n",
        ")"
      ],
      "execution_count": 43,
      "outputs": [
        {
          "output_type": "stream",
          "name": "stdout",
          "text": [
            "Epoch 1/20\n",
            "1350/1350 [==============================] - 11s 7ms/step - loss: 0.5995 - root_mean_squared_error: 0.3994 - val_loss: 0.5190 - val_root_mean_squared_error: 0.3546\n",
            "Epoch 2/20\n",
            "1350/1350 [==============================] - 10s 8ms/step - loss: 0.4390 - root_mean_squared_error: 0.3117 - val_loss: 0.4719 - val_root_mean_squared_error: 0.3292\n",
            "Epoch 3/20\n",
            "1350/1350 [==============================] - 10s 8ms/step - loss: 0.4114 - root_mean_squared_error: 0.2962 - val_loss: 0.4366 - val_root_mean_squared_error: 0.3129\n",
            "Epoch 4/20\n",
            "1350/1350 [==============================] - 10s 8ms/step - loss: 0.3891 - root_mean_squared_error: 0.2834 - val_loss: 0.4155 - val_root_mean_squared_error: 0.3044\n",
            "Epoch 5/20\n",
            "1350/1350 [==============================] - 10s 7ms/step - loss: 0.3725 - root_mean_squared_error: 0.2731 - val_loss: 0.4033 - val_root_mean_squared_error: 0.2993\n",
            "Epoch 6/20\n",
            "1350/1350 [==============================] - 10s 7ms/step - loss: 0.3600 - root_mean_squared_error: 0.2644 - val_loss: 0.3961 - val_root_mean_squared_error: 0.2962\n",
            "Epoch 7/20\n",
            "1350/1350 [==============================] - 10s 8ms/step - loss: 0.3502 - root_mean_squared_error: 0.2569 - val_loss: 0.3911 - val_root_mean_squared_error: 0.2937\n",
            "Epoch 8/20\n",
            "1350/1350 [==============================] - 11s 8ms/step - loss: 0.3425 - root_mean_squared_error: 0.2510 - val_loss: 0.3875 - val_root_mean_squared_error: 0.2917\n",
            "Epoch 9/20\n",
            "1350/1350 [==============================] - 10s 8ms/step - loss: 0.3353 - root_mean_squared_error: 0.2460 - val_loss: 0.3852 - val_root_mean_squared_error: 0.2904\n",
            "Epoch 10/20\n",
            "1350/1350 [==============================] - 11s 8ms/step - loss: 0.3294 - root_mean_squared_error: 0.2411 - val_loss: 0.3830 - val_root_mean_squared_error: 0.2891\n",
            "Epoch 11/20\n",
            "1350/1350 [==============================] - 10s 8ms/step - loss: 0.3214 - root_mean_squared_error: 0.2344 - val_loss: 0.3818 - val_root_mean_squared_error: 0.2884\n",
            "Epoch 12/20\n",
            "1350/1350 [==============================] - 10s 7ms/step - loss: 0.3174 - root_mean_squared_error: 0.2320 - val_loss: 0.3808 - val_root_mean_squared_error: 0.2879\n",
            "Epoch 13/20\n",
            "1350/1350 [==============================] - 10s 7ms/step - loss: 0.3115 - root_mean_squared_error: 0.2273 - val_loss: 0.3801 - val_root_mean_squared_error: 0.2875\n",
            "Epoch 14/20\n",
            "1350/1350 [==============================] - 10s 7ms/step - loss: 0.3069 - root_mean_squared_error: 0.2233 - val_loss: 0.3792 - val_root_mean_squared_error: 0.2870\n",
            "Epoch 15/20\n",
            "1350/1350 [==============================] - 10s 7ms/step - loss: 0.3017 - root_mean_squared_error: 0.2191 - val_loss: 0.3782 - val_root_mean_squared_error: 0.2864\n",
            "Epoch 16/20\n",
            "1350/1350 [==============================] - 10s 8ms/step - loss: 0.2972 - root_mean_squared_error: 0.2158 - val_loss: 0.3778 - val_root_mean_squared_error: 0.2862\n",
            "Epoch 17/20\n",
            "1350/1350 [==============================] - 10s 7ms/step - loss: 0.2930 - root_mean_squared_error: 0.2120 - val_loss: 0.3776 - val_root_mean_squared_error: 0.2860\n",
            "Epoch 18/20\n",
            "1350/1350 [==============================] - 10s 7ms/step - loss: 0.2905 - root_mean_squared_error: 0.2097 - val_loss: 0.3778 - val_root_mean_squared_error: 0.2860\n",
            "Epoch 19/20\n",
            "1350/1350 [==============================] - 10s 7ms/step - loss: 0.2845 - root_mean_squared_error: 0.2047 - val_loss: 0.3784 - val_root_mean_squared_error: 0.2866\n",
            "Epoch 20/20\n",
            "1350/1350 [==============================] - 10s 7ms/step - loss: 0.2810 - root_mean_squared_error: 0.2017 - val_loss: 0.3786 - val_root_mean_squared_error: 0.2866\n"
          ]
        }
      ]
    },
    {
      "cell_type": "markdown",
      "metadata": {
        "id": "IM3cppOMqiPJ"
      },
      "source": [
        "Tahap akhir yaitu dengan mengambil sampel user secara acak dan definisikan variabel book_not_visited yang merupakan daftar book yang belum pernah dikunjungi oleh pengguna. Variabel book_not_visited diperoleh dengan menggunakan operator bitwise (~) pada variabel book_visited_by_user."
      ]
    },
    {
      "cell_type": "code",
      "metadata": {
        "id": "9yROSGQ1hSdk"
      },
      "source": [
        "book_df = books_new\n",
        " \n",
        "# Mengambil sample user\n",
        "user_id = df.UserID.sample(1).iloc[0]\n",
        "book_visited_by_user = df[df.UserID == user_id]\n",
        " \n",
        "# Operator bitwise (~), bisa diketahui di sini https://docs.python.org/3/reference/expressions.html \n",
        "book_not_visited = book_df[~book_df['id'].isin(book_visited_by_user.ISBN.values)]['id'] \n",
        "book_not_visited = list(\n",
        "    set(book_not_visited)\n",
        "    .intersection(set(book_to_book_encoded.keys()))\n",
        ")\n",
        " \n",
        "book_not_visited = [[book_to_book_encoded.get(x)] for x in book_not_visited]\n",
        "user_encoder = user_to_user_encoded.get(user_id)\n",
        "user_book_array = np.hstack(\n",
        "    ([[user_encoder]] * len(book_not_visited), book_not_visited)\n",
        ")"
      ],
      "execution_count": 44,
      "outputs": []
    },
    {
      "cell_type": "markdown",
      "metadata": {
        "id": "kmm54m3gq9uE"
      },
      "source": [
        "Dalam memperoleh rekomendasi buku maka menggunakan fungsi *model.predict()* dari library Keras."
      ]
    },
    {
      "cell_type": "code",
      "metadata": {
        "colab": {
          "base_uri": "https://localhost:8080/"
        },
        "id": "HlchJg48eOSy",
        "outputId": "a3db9af6-724d-46ce-c8db-3f535562feda"
      },
      "source": [
        "ratings = model.predict(user_book_array).flatten()\n",
        " \n",
        "top_ratings_indices = ratings.argsort()[-10:][::-1]\n",
        "recommended_book_ids = [\n",
        "    book_encoded_to_book.get(book_not_visited[x][0]) for x in top_ratings_indices\n",
        "]\n",
        " \n",
        "print('Menampilkan Rekomendasi Untuk Pengguna: {}'.format(user_id))\n",
        "print('===' * 9)\n",
        "print('Buku dengan peringkat tinggi dari pengguna')\n",
        "print('----' * 8)\n",
        " \n",
        "top_book_user = (\n",
        "    book_visited_by_user.sort_values(\n",
        "        by = 'Book_Rating',\n",
        "        ascending=False\n",
        "    )\n",
        "    .head(5)\n",
        "    .ISBN.values\n",
        ")\n",
        " \n",
        "book_df_rows = book_df[book_df['id'].isin(top_book_user)]\n",
        "for row in book_df_rows.itertuples():\n",
        "    print(row.title, ':', row.author)\n",
        " \n",
        "print('----' * 8)\n",
        "print('10 Rekomendasi Buku Teratas')\n",
        "print('----' * 8)\n",
        " \n",
        "recommended_book = book_df[book_df['id'].isin(recommended_book_ids)]\n",
        "for row in recommended_book.itertuples():\n",
        "    print(row.title, ':', row.author)"
      ],
      "execution_count": 45,
      "outputs": [
        {
          "output_type": "stream",
          "name": "stdout",
          "text": [
            "Menampilkan Rekomendasi Untuk Pengguna: 278418\n",
            "===========================\n",
            "Buku dengan peringkat tinggi dari pengguna\n",
            "--------------------------------\n",
            "--------------------------------\n",
            "10 Rekomendasi Buku Teratas\n",
            "--------------------------------\n",
            "The King of Torts : JOHN GRISHAM\n",
            "She's Come Undone (Oprah's Book Club) : Wally Lamb\n",
            "The Secret Life of Bees : Sue Monk Kidd\n",
            "Chicken Soup for the Woman's Soul (Chicken Soup for the Soul Series (Paper)) : Jack Canfield\n",
            "Sleep No More : Greg Iles\n",
            "Rebecca : Daphne Du Maurier\n",
            "Chasing the Dime : Michael Connelly\n",
            "McDonald's: Behind the Arches : John F. Love\n",
            "The Breach : Brian Kaufman\n",
            "Name of the Rose : Umberto Eco\n"
          ]
        }
      ]
    },
    {
      "cell_type": "markdown",
      "metadata": {
        "id": "4ZqqfJTBrN6Z"
      },
      "source": [
        "Pada output diatas merupakan hasil rekomendasi dari model collaborative filtering dimana user dengan id 508. Kita dapat melihat bahwa terdapat dua perbandingan yaitu Buku dengan peringkat tinggi dari pengguna yaitu ‘Echoes : Maeve Binchy’ dan ‘Kissing in Manhattan : DAVID SCHICKLER’ Serta 10 Rekomendasi Buku Teratas yang salah satunya yaitu ‘The Watsons Go to Birmingham - 1963 (Yearling Newbery) : CHRISTOPHER PAUL CURTIS’."
      ]
    },
    {
      "cell_type": "markdown",
      "metadata": {
        "id": "bVtNidagreTo"
      },
      "source": [
        "# **Evaluation**\n",
        "\n",
        "Pada tahap ini saya menggunakan metrik root mean squared error (RMSE) dimana metode estimasi yang mempunyai Root Mean Square Error (RMSE) lebih kecil dikatakan lebih akurat daripada metode estimasi yang mempunyai Root Mean Square Error (RMSE) lebih besar. \n",
        "\n"
      ]
    },
    {
      "cell_type": "markdown",
      "metadata": {
        "id": "J0oum6vWrs6g"
      },
      "source": [
        "Pada gambar dibawah ini merupakan hasil visualisasi metrik RMSE dari proses training yang menggunakan matplotlib. Dimana menampilkan plot *root_mean_squared_error* dan *val_root_mean_squared_error*"
      ]
    },
    {
      "cell_type": "code",
      "metadata": {
        "colab": {
          "base_uri": "https://localhost:8080/",
          "height": 295
        },
        "id": "HtovgG1edgB2",
        "outputId": "23263e96-b107-4cb6-bc40-d457da4c5d24"
      },
      "source": [
        "plt.plot(history.history['root_mean_squared_error'])\n",
        "plt.plot(history.history['val_root_mean_squared_error'])\n",
        "plt.title('model_metrics')\n",
        "plt.ylabel('root_mean_squared_error')\n",
        "plt.xlabel('epoch')\n",
        "plt.legend(['train', 'test'], loc='upper left')\n",
        "plt.show()"
      ],
      "execution_count": 46,
      "outputs": [
        {
          "output_type": "display_data",
          "data": {
            "image/png": "[encoded data removed]",
            "text/plain": [
              "<Figure size 432x288 with 1 Axes>"
            ]
          },
          "metadata": {
            "needs_background": "light"
          }
        }
      ]
    },
    {
      "cell_type": "markdown",
      "metadata": {
        "id": "Ne3C0iycsCOw"
      },
      "source": [
        "# **Kesimpulan**\n",
        "\n",
        "Dari proses yang telah dilakukan didapatkan hasil perbandingan buku dengan peringkat tinggi dari pengguna dan 10 Rekomendasi Buku Teratas. Pada proyek ini saya menggunakan model Colaborative Filtering dimana menggunakan metrik Root Mean Square Error (RMSE). Serta untuk model ini data yang diperlukan dalam membuat rekomendasi yaitu data rating dari pengguna. Kemudian, dikarenakan data yang terlalu banyak sehingga saya menggunakan beberapa data total dari data yang ada 12.000 data Books dan 12.000 data Rating."
      ]
    }
  ]
}